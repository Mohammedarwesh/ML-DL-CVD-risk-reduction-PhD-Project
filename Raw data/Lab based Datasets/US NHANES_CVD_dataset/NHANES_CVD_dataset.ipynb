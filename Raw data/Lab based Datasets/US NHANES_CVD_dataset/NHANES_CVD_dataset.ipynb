{
 "cells": [
  {
   "cell_type": "code",
   "execution_count": 1,
   "metadata": {},
   "outputs": [],
   "source": [
    "import pandas as pd\n",
    "df_stata_path = \"~/Desktop/CVD risk prediction Notebook/Datasets/Lab based Datasets/US NHANES_CVD_dataset/cvd-rep-data02.dta\""
   ]
  },
  {
   "cell_type": "code",
   "execution_count": 2,
   "metadata": {},
   "outputs": [],
   "source": [
    "df1 = pd.read_stata(df_stata_path)"
   ]
  },
  {
   "cell_type": "code",
   "execution_count": 3,
   "metadata": {},
   "outputs": [
    {
     "name": "stdout",
     "output_type": "stream",
     "text": [
      "<class 'pandas.core.frame.DataFrame'>\n",
      "Int64Index: 52195 entries, 0 to 52194\n",
      "Data columns (total 80 columns):\n",
      " #   Column         Non-Null Count  Dtype   \n",
      "---  ------         --------------  -----   \n",
      " 0   seqn           52195 non-null  float64 \n",
      " 1   year           52195 non-null  category\n",
      " 2   age            52195 non-null  float64 \n",
      " 3   agec           52195 non-null  category\n",
      " 4   gender         52195 non-null  category\n",
      " 5   edu            27518 non-null  category\n",
      " 6   income         48145 non-null  category\n",
      " 7   race           52195 non-null  category\n",
      " 8   bmic           44919 non-null  category\n",
      " 9   systolic       37578 non-null  float32 \n",
      " 10  chol_hdl       38653 non-null  float64 \n",
      " 11  chol_total     38654 non-null  float64 \n",
      " 12  alc            52195 non-null  category\n",
      " 13  meds           52195 non-null  category\n",
      " 14  diabetes       49678 non-null  category\n",
      " 15  drugs          17236 non-null  category\n",
      " 16  famhx          26710 non-null  category\n",
      " 17  priorcvd       27429 non-null  category\n",
      " 18  smoke          27549 non-null  category\n",
      " 19  sexo           7409 non-null   category\n",
      " 20  smm            7409 non-null   category\n",
      " 21  partners_life  5563 non-null   float64 \n",
      " 22  partners_yr    3070 non-null   float64 \n",
      " 23  ridreth1       52195 non-null  float64 \n",
      " 24  dmdeduc2       27518 non-null  float64 \n",
      " 25  indhhinc       29722 non-null  float64 \n",
      " 26  wtint2yr       52195 non-null  float64 \n",
      " 27  wtmec2yr       52195 non-null  float64 \n",
      " 28  sdmvpsu        52195 non-null  float64 \n",
      " 29  sdmvstra       52195 non-null  float64 \n",
      " 30  alc_pastyear   23836 non-null  float64 \n",
      " 31  alq110         7168 non-null   float64 \n",
      " 32  alq120q        20382 non-null  float64 \n",
      " 33  alq120u        15465 non-null  float64 \n",
      " 34  alq130         15484 non-null  float64 \n",
      " 35  alq140q        15463 non-null  float64 \n",
      " 36  alq140u        5915 non-null   float64 \n",
      " 37  alq150         20408 non-null  float64 \n",
      " 38  bpq040a        9458 non-null   float64 \n",
      " 39  bmxwt          48994 non-null  float64 \n",
      " 40  bmxht          45308 non-null  float64 \n",
      " 41  bmxbmi         44919 non-null  float64 \n",
      " 42  diq010         49678 non-null  float64 \n",
      " 43  duq100         5680 non-null   float64 \n",
      " 44  mcq160b        27477 non-null  float64 \n",
      " 45  mcq160c        27432 non-null  float64 \n",
      " 46  mcq160d        27475 non-null  float64 \n",
      " 47  mcq160e        27525 non-null  float64 \n",
      " 48  mcq160f        27531 non-null  float64 \n",
      " 49  mcq250g        10059 non-null  float64 \n",
      " 50  sxq292         7571 non-null   float64 \n",
      " 51  smq020         27552 non-null  float64 \n",
      " 52  smq040         13106 non-null  float64 \n",
      " 53  systolic1      34744 non-null  float64 \n",
      " 54  systolic2      33373 non-null  float64 \n",
      " 55  systolic3      32933 non-null  float64 \n",
      " 56  systolic4      4981 non-null   float64 \n",
      " 57  whd010         31608 non-null  float64 \n",
      " 58  whd020         31784 non-null  float64 \n",
      " 59  duq240         11556 non-null  float64 \n",
      " 60  mcq300a        16651 non-null  float64 \n",
      " 61  indhhin2       20522 non-null  float64 \n",
      " 62  mec10yr        52195 non-null  float32 \n",
      " 63  sms            7409 non-null   category\n",
      " 64  smmi           7409 non-null   category\n",
      " 65  cbmi           44919 non-null  float32 \n",
      " 66  cbmic          44919 non-null  category\n",
      " 67  srbmi          31233 non-null  float32 \n",
      " 68  srbmic         31233 non-null  category\n",
      " 69  dopw           20382 non-null  float32 \n",
      " 70  dpw            15460 non-null  float32 \n",
      " 71  points_age     52195 non-null  float32 \n",
      " 72  points_hdl     38653 non-null  float32 \n",
      " 73  points_chol    38654 non-null  float32 \n",
      " 74  points_sys     37578 non-null  float32 \n",
      " 75  points_smoke   27549 non-null  float32 \n",
      " 76  points_diab    49678 non-null  float32 \n",
      " 77  points_sum     23529 non-null  float32 \n",
      " 78  vascage        23529 non-null  float32 \n",
      " 79  agerat         23529 non-null  float32 \n",
      "dtypes: category(20), float32(15), float64(45)\n",
      "memory usage: 22.3 MB\n"
     ]
    }
   ],
   "source": [
    "df1.info()"
   ]
  },
  {
   "cell_type": "code",
   "execution_count": 4,
   "metadata": {},
   "outputs": [
    {
     "name": "stderr",
     "output_type": "stream",
     "text": [
      "C:\\Users\\Mo Darwesh\\AppData\\Local\\Temp\\ipykernel_11924\\335839066.py:1: FutureWarning: In a future version of pandas all arguments of DataFrame.drop except for the argument 'labels' will be keyword-only.\n",
      "  df1.drop(df1.columns.difference(['diabetes','age','systolic', 'gender','chol_total', 'smoke', 'priorcvd','agerat','mec10yr']), 1, inplace=True)\n"
     ]
    }
   ],
   "source": [
    "df1.drop(df1.columns.difference(['diabetes','age','systolic', 'gender','chol_total', 'smoke', 'priorcvd','agerat','mec10yr']), 1, inplace=True)"
   ]
  },
  {
   "cell_type": "code",
   "execution_count": 5,
   "metadata": {},
   "outputs": [
    {
     "name": "stdout",
     "output_type": "stream",
     "text": [
      "<class 'pandas.core.frame.DataFrame'>\n",
      "Int64Index: 23414 entries, 0 to 50248\n",
      "Data columns (total 9 columns):\n",
      " #   Column      Non-Null Count  Dtype   \n",
      "---  ------      --------------  -----   \n",
      " 0   age         23414 non-null  float64 \n",
      " 1   gender      23414 non-null  category\n",
      " 2   systolic    23414 non-null  float32 \n",
      " 3   chol_total  23414 non-null  float64 \n",
      " 4   diabetes    23414 non-null  category\n",
      " 5   priorcvd    23414 non-null  category\n",
      " 6   smoke       23414 non-null  category\n",
      " 7   mec10yr     23414 non-null  float32 \n",
      " 8   agerat      23414 non-null  float32 \n",
      "dtypes: category(4), float32(3), float64(2)\n",
      "memory usage: 915.1 KB\n"
     ]
    }
   ],
   "source": [
    "df1.dropna(inplace=True)\n",
    "df1.info()"
   ]
  },
  {
   "cell_type": "code",
   "execution_count": 6,
   "metadata": {},
   "outputs": [
    {
     "data": {
      "text/html": [
       "<div>\n",
       "<style scoped>\n",
       "    .dataframe tbody tr th:only-of-type {\n",
       "        vertical-align: middle;\n",
       "    }\n",
       "\n",
       "    .dataframe tbody tr th {\n",
       "        vertical-align: top;\n",
       "    }\n",
       "\n",
       "    .dataframe thead th {\n",
       "        text-align: right;\n",
       "    }\n",
       "</style>\n",
       "<table border=\"1\" class=\"dataframe\">\n",
       "  <thead>\n",
       "    <tr style=\"text-align: right;\">\n",
       "      <th></th>\n",
       "      <th>age</th>\n",
       "      <th>gender</th>\n",
       "      <th>systolic</th>\n",
       "      <th>chol_total</th>\n",
       "      <th>diabetes</th>\n",
       "      <th>priorcvd</th>\n",
       "      <th>smoke</th>\n",
       "      <th>mec10yr</th>\n",
       "      <th>agerat</th>\n",
       "    </tr>\n",
       "  </thead>\n",
       "  <tbody>\n",
       "    <tr>\n",
       "      <th>50232</th>\n",
       "      <td>48.0</td>\n",
       "      <td>Female</td>\n",
       "      <td>102.000000</td>\n",
       "      <td>170.0</td>\n",
       "      <td>No</td>\n",
       "      <td>No</td>\n",
       "      <td>Former smoker</td>\n",
       "      <td>17617.509766</td>\n",
       "      <td>0.750000</td>\n",
       "    </tr>\n",
       "    <tr>\n",
       "      <th>50233</th>\n",
       "      <td>33.0</td>\n",
       "      <td>Female</td>\n",
       "      <td>98.666664</td>\n",
       "      <td>153.0</td>\n",
       "      <td>No</td>\n",
       "      <td>No</td>\n",
       "      <td>Non-smoker</td>\n",
       "      <td>3785.206299</td>\n",
       "      <td>1.000000</td>\n",
       "    </tr>\n",
       "    <tr>\n",
       "      <th>50235</th>\n",
       "      <td>43.0</td>\n",
       "      <td>Male</td>\n",
       "      <td>139.333328</td>\n",
       "      <td>528.0</td>\n",
       "      <td>No</td>\n",
       "      <td>No</td>\n",
       "      <td>Smoker</td>\n",
       "      <td>3786.717041</td>\n",
       "      <td>1.767442</td>\n",
       "    </tr>\n",
       "    <tr>\n",
       "      <th>50241</th>\n",
       "      <td>52.0</td>\n",
       "      <td>Male</td>\n",
       "      <td>106.000000</td>\n",
       "      <td>210.0</td>\n",
       "      <td>No</td>\n",
       "      <td>No</td>\n",
       "      <td>Non-smoker</td>\n",
       "      <td>2532.841064</td>\n",
       "      <td>1.038462</td>\n",
       "    </tr>\n",
       "    <tr>\n",
       "      <th>50242</th>\n",
       "      <td>24.0</td>\n",
       "      <td>Male</td>\n",
       "      <td>126.000000</td>\n",
       "      <td>155.0</td>\n",
       "      <td>No</td>\n",
       "      <td>No</td>\n",
       "      <td>Non-smoker</td>\n",
       "      <td>4006.472656</td>\n",
       "      <td>1.000000</td>\n",
       "    </tr>\n",
       "    <tr>\n",
       "      <th>50244</th>\n",
       "      <td>32.0</td>\n",
       "      <td>Male</td>\n",
       "      <td>115.333336</td>\n",
       "      <td>198.0</td>\n",
       "      <td>No</td>\n",
       "      <td>No</td>\n",
       "      <td>Non-smoker</td>\n",
       "      <td>3629.499268</td>\n",
       "      <td>0.937500</td>\n",
       "    </tr>\n",
       "    <tr>\n",
       "      <th>50245</th>\n",
       "      <td>48.0</td>\n",
       "      <td>Female</td>\n",
       "      <td>110.666664</td>\n",
       "      <td>246.0</td>\n",
       "      <td>No</td>\n",
       "      <td>No</td>\n",
       "      <td>Smoker</td>\n",
       "      <td>4216.321777</td>\n",
       "      <td>1.062500</td>\n",
       "    </tr>\n",
       "    <tr>\n",
       "      <th>50246</th>\n",
       "      <td>27.0</td>\n",
       "      <td>Male</td>\n",
       "      <td>111.333336</td>\n",
       "      <td>121.0</td>\n",
       "      <td>No</td>\n",
       "      <td>No</td>\n",
       "      <td>Smoker</td>\n",
       "      <td>4715.072266</td>\n",
       "      <td>1.185185</td>\n",
       "    </tr>\n",
       "    <tr>\n",
       "      <th>50247</th>\n",
       "      <td>75.0</td>\n",
       "      <td>Male</td>\n",
       "      <td>118.000000</td>\n",
       "      <td>176.0</td>\n",
       "      <td>No</td>\n",
       "      <td>Yes</td>\n",
       "      <td>Non-smoker</td>\n",
       "      <td>2591.604004</td>\n",
       "      <td>0.960000</td>\n",
       "    </tr>\n",
       "    <tr>\n",
       "      <th>50248</th>\n",
       "      <td>63.0</td>\n",
       "      <td>Female</td>\n",
       "      <td>122.666664</td>\n",
       "      <td>181.0</td>\n",
       "      <td>Yes</td>\n",
       "      <td>No</td>\n",
       "      <td>Non-smoker</td>\n",
       "      <td>1288.734741</td>\n",
       "      <td>1.269841</td>\n",
       "    </tr>\n",
       "  </tbody>\n",
       "</table>\n",
       "</div>"
      ],
      "text/plain": [
       "        age  gender    systolic  chol_total diabetes priorcvd          smoke  \\\n",
       "50232  48.0  Female  102.000000       170.0       No       No  Former smoker   \n",
       "50233  33.0  Female   98.666664       153.0       No       No     Non-smoker   \n",
       "50235  43.0    Male  139.333328       528.0       No       No         Smoker   \n",
       "50241  52.0    Male  106.000000       210.0       No       No     Non-smoker   \n",
       "50242  24.0    Male  126.000000       155.0       No       No     Non-smoker   \n",
       "50244  32.0    Male  115.333336       198.0       No       No     Non-smoker   \n",
       "50245  48.0  Female  110.666664       246.0       No       No         Smoker   \n",
       "50246  27.0    Male  111.333336       121.0       No       No         Smoker   \n",
       "50247  75.0    Male  118.000000       176.0       No      Yes     Non-smoker   \n",
       "50248  63.0  Female  122.666664       181.0      Yes       No     Non-smoker   \n",
       "\n",
       "            mec10yr    agerat  \n",
       "50232  17617.509766  0.750000  \n",
       "50233   3785.206299  1.000000  \n",
       "50235   3786.717041  1.767442  \n",
       "50241   2532.841064  1.038462  \n",
       "50242   4006.472656  1.000000  \n",
       "50244   3629.499268  0.937500  \n",
       "50245   4216.321777  1.062500  \n",
       "50246   4715.072266  1.185185  \n",
       "50247   2591.604004  0.960000  \n",
       "50248   1288.734741  1.269841  "
      ]
     },
     "execution_count": 6,
     "metadata": {},
     "output_type": "execute_result"
    }
   ],
   "source": [
    "df1.tail(10)"
   ]
  },
  {
   "cell_type": "code",
   "execution_count": null,
   "metadata": {},
   "outputs": [],
   "source": [
    "df2_stata_path = \"~/Desktop/CVD risk prediction Notebook/Datasets/Lab based Datasets/45 low-income and middle-income countries/cvd-rep-data01.dta\""
   ]
  },
  {
   "cell_type": "code",
   "execution_count": null,
   "metadata": {},
   "outputs": [],
   "source": [
    "df2 = pd.read_stata(df2_stata_path)"
   ]
  },
  {
   "cell_type": "code",
   "execution_count": null,
   "metadata": {},
   "outputs": [],
   "source": [
    "df2.info()"
   ]
  },
  {
   "cell_type": "code",
   "execution_count": null,
   "metadata": {},
   "outputs": [],
   "source": [
    "df2.drop(df2.columns.difference(['diabetes','age','systolic', 'gender','chol_total', 'smoke', 'priorcvd']), 1, inplace=True)"
   ]
  },
  {
   "cell_type": "code",
   "execution_count": null,
   "metadata": {},
   "outputs": [],
   "source": [
    "df2.info()"
   ]
  },
  {
   "cell_type": "code",
   "execution_count": null,
   "metadata": {},
   "outputs": [],
   "source": [
    "df1.to_csv('NHANES_CVD_dataset.csv')"
   ]
  },
  {
   "cell_type": "code",
   "execution_count": null,
   "metadata": {},
   "outputs": [],
   "source": []
  }
 ],
 "metadata": {
  "kernelspec": {
   "display_name": "Python 3 (ipykernel)",
   "language": "python",
   "name": "python3"
  },
  "language_info": {
   "codemirror_mode": {
    "name": "ipython",
    "version": 3
   },
   "file_extension": ".py",
   "mimetype": "text/x-python",
   "name": "python",
   "nbconvert_exporter": "python",
   "pygments_lexer": "ipython3",
   "version": "3.10.8"
  }
 },
 "nbformat": 4,
 "nbformat_minor": 4
}
