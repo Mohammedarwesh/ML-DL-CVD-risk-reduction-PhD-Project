{
 "cells": [
  {
   "cell_type": "markdown",
   "metadata": {
    "tags": []
   },
   "source": [
    "# Development and Validation of an Adaptive Machine Learning Pipeline for Cardiovascular Disease Risk Prediction"
   ]
  },
  {
   "cell_type": "markdown",
   "metadata": {},
   "source": [
    "### Background:\n",
    "The primary cause of morbidity and mortality worldwide is cardiovascular disease (CVD). Brunei Darussalam is no exception; CVDs were the leading cause of death in 2015. Therefore, CVDs have substantial effects on public health and will eventually impair Brunei's economically productive workforce. In Brunei, the sole recommended technique for assessing CVD risk is the WHO/ISH risk prediction chart, which has not been validated in the local population. During the COVID-19 pandemic, MOH Brunei Darussalam developed the BruHealth mobile application on a digital platform with several essential features that have a significant impact on the general public's health. \n",
    "\n",
    "### Methods: \n",
    "A Supervised Classification Machine Learning Problem using standard libraries and modules in the Python3 environment and the TensorFlow backend since **an Adaptive AI predictive modelling pipeline of machine learning algorithms** will be developed and validated using open source CVD risk data collated form the literature and then will be tested by local Bruneian CVD risk data and then will be continuously updated and adapted with the prospectively populated CVD risk data through BruHealth national mobile application.\n",
    "\n",
    "### Objectives\n",
    "1. To develop an Adaptive pipeline of different ML and DL algorithms for predicting the risk of the future CVD events and tested by Brunei-specific CVD risk data.\n",
    "2. To estimate the accuracy, sensitivity (recall), specificity, positive predictive value (precision), area under the ROC curve (AUC ROC), the area under the precision-recall curve (AUC PR) and F1 score of the developed ML/DL algorithms pipeline.\n",
    "3. To compare and prioritize the performance of the different ML/DL classifiers used in developing this automated CVD risk calculator using calculated metrics using an internal validation by splitting the data into training and validation dataset and an external testing by local Bruneian CVD risk data."
   ]
  },
  {
   "cell_type": "markdown",
   "metadata": {},
   "source": [
    "## Installing Packages"
   ]
  },
  {
   "cell_type": "code",
   "execution_count": 2,
   "metadata": {},
   "outputs": [
    {
     "name": "stdout",
     "output_type": "stream",
     "text": [
      "Requirement already satisfied: pandas in c:\\users\\mo darwesh\\anaconda3\\envs\\cvd_risk\\lib\\site-packages (1.5.2)\n",
      "Requirement already satisfied: pytz>=2020.1 in c:\\users\\mo darwesh\\anaconda3\\envs\\cvd_risk\\lib\\site-packages (from pandas) (2022.1)\n",
      "Requirement already satisfied: numpy>=1.21.0 in c:\\users\\mo darwesh\\anaconda3\\envs\\cvd_risk\\lib\\site-packages (from pandas) (1.23.5)\n",
      "Requirement already satisfied: python-dateutil>=2.8.1 in c:\\users\\mo darwesh\\anaconda3\\envs\\cvd_risk\\lib\\site-packages (from pandas) (2.8.2)\n",
      "Requirement already satisfied: six>=1.5 in c:\\users\\mo darwesh\\anaconda3\\envs\\cvd_risk\\lib\\site-packages (from python-dateutil>=2.8.1->pandas) (1.16.0)\n",
      "Note: you may need to restart the kernel to use updated packages.\n",
      "Requirement already satisfied: mlxtend in c:\\users\\mo darwesh\\anaconda3\\envs\\cvd_risk\\lib\\site-packages (0.21.0)\n",
      "Requirement already satisfied: setuptools in c:\\users\\mo darwesh\\anaconda3\\envs\\cvd_risk\\lib\\site-packages (from mlxtend) (65.5.0)\n",
      "Requirement already satisfied: matplotlib>=3.0.0 in c:\\users\\mo darwesh\\anaconda3\\envs\\cvd_risk\\lib\\site-packages (from mlxtend) (3.6.2)\n",
      "Requirement already satisfied: pandas>=0.24.2 in c:\\users\\mo darwesh\\anaconda3\\envs\\cvd_risk\\lib\\site-packages (from mlxtend) (1.5.2)\n",
      "Requirement already satisfied: scikit-learn>=1.0.2 in c:\\users\\mo darwesh\\anaconda3\\envs\\cvd_risk\\lib\\site-packages (from mlxtend) (1.2.0)\n",
      "Requirement already satisfied: joblib>=0.13.2 in c:\\users\\mo darwesh\\anaconda3\\envs\\cvd_risk\\lib\\site-packages (from mlxtend) (1.2.0)\n",
      "Requirement already satisfied: numpy>=1.16.2 in c:\\users\\mo darwesh\\anaconda3\\envs\\cvd_risk\\lib\\site-packages (from mlxtend) (1.23.5)\n",
      "Requirement already satisfied: scipy>=1.2.1 in c:\\users\\mo darwesh\\anaconda3\\envs\\cvd_risk\\lib\\site-packages (from mlxtend) (1.9.3)\n",
      "Requirement already satisfied: cycler>=0.10 in c:\\users\\mo darwesh\\anaconda3\\envs\\cvd_risk\\lib\\site-packages (from matplotlib>=3.0.0->mlxtend) (0.11.0)\n",
      "Requirement already satisfied: python-dateutil>=2.7 in c:\\users\\mo darwesh\\anaconda3\\envs\\cvd_risk\\lib\\site-packages (from matplotlib>=3.0.0->mlxtend) (2.8.2)\n",
      "Requirement already satisfied: contourpy>=1.0.1 in c:\\users\\mo darwesh\\anaconda3\\envs\\cvd_risk\\lib\\site-packages (from matplotlib>=3.0.0->mlxtend) (1.0.6)\n",
      "Requirement already satisfied: fonttools>=4.22.0 in c:\\users\\mo darwesh\\anaconda3\\envs\\cvd_risk\\lib\\site-packages (from matplotlib>=3.0.0->mlxtend) (4.38.0)\n",
      "Requirement already satisfied: packaging>=20.0 in c:\\users\\mo darwesh\\anaconda3\\envs\\cvd_risk\\lib\\site-packages (from matplotlib>=3.0.0->mlxtend) (21.3)\n",
      "Requirement already satisfied: pillow>=6.2.0 in c:\\users\\mo darwesh\\anaconda3\\envs\\cvd_risk\\lib\\site-packages (from matplotlib>=3.0.0->mlxtend) (9.3.0)\n",
      "Requirement already satisfied: pyparsing>=2.2.1 in c:\\users\\mo darwesh\\anaconda3\\envs\\cvd_risk\\lib\\site-packages (from matplotlib>=3.0.0->mlxtend) (3.0.9)\n",
      "Requirement already satisfied: kiwisolver>=1.0.1 in c:\\users\\mo darwesh\\anaconda3\\envs\\cvd_risk\\lib\\site-packages (from matplotlib>=3.0.0->mlxtend) (1.4.4)\n",
      "Requirement already satisfied: pytz>=2020.1 in c:\\users\\mo darwesh\\anaconda3\\envs\\cvd_risk\\lib\\site-packages (from pandas>=0.24.2->mlxtend) (2022.1)\n",
      "Requirement already satisfied: threadpoolctl>=2.0.0 in c:\\users\\mo darwesh\\anaconda3\\envs\\cvd_risk\\lib\\site-packages (from scikit-learn>=1.0.2->mlxtend) (3.1.0)\n",
      "Requirement already satisfied: six>=1.5 in c:\\users\\mo darwesh\\anaconda3\\envs\\cvd_risk\\lib\\site-packages (from python-dateutil>=2.7->matplotlib>=3.0.0->mlxtend) (1.16.0)\n",
      "Note: you may need to restart the kernel to use updated packages.\n",
      "Requirement already satisfied: seaborn in c:\\users\\mo darwesh\\anaconda3\\envs\\cvd_risk\\lib\\site-packages (0.12.1)Note: you may need to restart the kernel to use updated packages.\n",
      "\n",
      "Requirement already satisfied: pandas>=0.25 in c:\\users\\mo darwesh\\anaconda3\\envs\\cvd_risk\\lib\\site-packages (from seaborn) (1.5.2)\n",
      "Requirement already satisfied: numpy>=1.17 in c:\\users\\mo darwesh\\anaconda3\\envs\\cvd_risk\\lib\\site-packages (from seaborn) (1.23.5)\n",
      "Requirement already satisfied: matplotlib!=3.6.1,>=3.1 in c:\\users\\mo darwesh\\anaconda3\\envs\\cvd_risk\\lib\\site-packages (from seaborn) (3.6.2)\n",
      "Requirement already satisfied: cycler>=0.10 in c:\\users\\mo darwesh\\anaconda3\\envs\\cvd_risk\\lib\\site-packages (from matplotlib!=3.6.1,>=3.1->seaborn) (0.11.0)\n",
      "Requirement already satisfied: python-dateutil>=2.7 in c:\\users\\mo darwesh\\anaconda3\\envs\\cvd_risk\\lib\\site-packages (from matplotlib!=3.6.1,>=3.1->seaborn) (2.8.2)\n",
      "Requirement already satisfied: packaging>=20.0 in c:\\users\\mo darwesh\\anaconda3\\envs\\cvd_risk\\lib\\site-packages (from matplotlib!=3.6.1,>=3.1->seaborn) (21.3)\n",
      "Requirement already satisfied: kiwisolver>=1.0.1 in c:\\users\\mo darwesh\\anaconda3\\envs\\cvd_risk\\lib\\site-packages (from matplotlib!=3.6.1,>=3.1->seaborn) (1.4.4)\n",
      "Requirement already satisfied: contourpy>=1.0.1 in c:\\users\\mo darwesh\\anaconda3\\envs\\cvd_risk\\lib\\site-packages (from matplotlib!=3.6.1,>=3.1->seaborn) (1.0.6)\n",
      "Requirement already satisfied: pillow>=6.2.0 in c:\\users\\mo darwesh\\anaconda3\\envs\\cvd_risk\\lib\\site-packages (from matplotlib!=3.6.1,>=3.1->seaborn) (9.3.0)\n",
      "Requirement already satisfied: fonttools>=4.22.0 in c:\\users\\mo darwesh\\anaconda3\\envs\\cvd_risk\\lib\\site-packages (from matplotlib!=3.6.1,>=3.1->seaborn) (4.38.0)\n",
      "Requirement already satisfied: pyparsing>=2.2.1 in c:\\users\\mo darwesh\\anaconda3\\envs\\cvd_risk\\lib\\site-packages (from matplotlib!=3.6.1,>=3.1->seaborn) (3.0.9)\n",
      "Requirement already satisfied: pytz>=2020.1 in c:\\users\\mo darwesh\\anaconda3\\envs\\cvd_risk\\lib\\site-packages (from pandas>=0.25->seaborn) (2022.1)\n",
      "Requirement already satisfied: six>=1.5 in c:\\users\\mo darwesh\\anaconda3\\envs\\cvd_risk\\lib\\site-packages (from python-dateutil>=2.7->matplotlib!=3.6.1,>=3.1->seaborn) (1.16.0)\n",
      "Requirement already satisfied: openpyxl in c:\\users\\mo darwesh\\anaconda3\\envs\\cvd_risk\\lib\\site-packages (3.0.10)\n",
      "Requirement already satisfied: et-xmlfile in c:\\users\\mo darwesh\\anaconda3\\envs\\cvd_risk\\lib\\site-packages (from openpyxl) (1.1.0)\n",
      "Note: you may need to restart the kernel to use updated packages.\n",
      "Requirement already satisfied: keras in c:\\users\\mo darwesh\\anaconda3\\envs\\cvd_risk\\lib\\site-packages (2.11.0)\n",
      "Note: you may need to restart the kernel to use updated packages.\n",
      "Collecting tensorflow\n",
      "  Downloading tensorflow-2.11.0-cp310-cp310-win_amd64.whl (1.9 kB)\n",
      "Collecting tensorflow-intel==2.11.0\n",
      "  Downloading tensorflow_intel-2.11.0-cp310-cp310-win_amd64.whl (266.3 MB)\n",
      "     -------------------------------------- 266.3/266.3 MB 1.4 MB/s eta 0:00:00\n",
      "Collecting tensorboard<2.12,>=2.11\n",
      "  Downloading tensorboard-2.11.0-py3-none-any.whl (6.0 MB)\n",
      "     ---------------------------------------- 6.0/6.0 MB 4.1 MB/s eta 0:00:00\n",
      "Requirement already satisfied: setuptools in c:\\users\\mo darwesh\\anaconda3\\envs\\cvd_risk\\lib\\site-packages (from tensorflow-intel==2.11.0->tensorflow) (65.5.0)\n",
      "Requirement already satisfied: typing-extensions>=3.6.6 in c:\\users\\mo darwesh\\anaconda3\\envs\\cvd_risk\\lib\\site-packages (from tensorflow-intel==2.11.0->tensorflow) (4.4.0)\n",
      "Requirement already satisfied: numpy>=1.20 in c:\\users\\mo darwesh\\anaconda3\\envs\\cvd_risk\\lib\\site-packages (from tensorflow-intel==2.11.0->tensorflow) (1.23.5)\n",
      "Collecting wrapt>=1.11.0\n",
      "  Downloading wrapt-1.14.1-cp310-cp310-win_amd64.whl (35 kB)\n",
      "Requirement already satisfied: keras<2.12,>=2.11.0 in c:\\users\\mo darwesh\\anaconda3\\envs\\cvd_risk\\lib\\site-packages (from tensorflow-intel==2.11.0->tensorflow) (2.11.0)\n",
      "Collecting opt-einsum>=2.3.2\n",
      "  Downloading opt_einsum-3.3.0-py3-none-any.whl (65 kB)\n",
      "     ---------------------------------------- 65.5/65.5 kB 1.2 MB/s eta 0:00:00\n",
      "Collecting libclang>=13.0.0\n",
      "  Downloading libclang-14.0.6-py2.py3-none-win_amd64.whl (14.2 MB)\n",
      "     ---------------------------------------- 14.2/14.2 MB 4.9 MB/s eta 0:00:00\n",
      "Collecting flatbuffers>=2.0\n",
      "  Downloading flatbuffers-22.12.6-py2.py3-none-any.whl (26 kB)\n",
      "Collecting grpcio<2.0,>=1.24.3\n",
      "  Downloading grpcio-1.51.1-cp310-cp310-win_amd64.whl (3.7 MB)\n",
      "     ---------------------------------------- 3.7/3.7 MB 2.1 MB/s eta 0:00:00\n",
      "Collecting absl-py>=1.0.0\n",
      "  Downloading absl_py-1.3.0-py3-none-any.whl (124 kB)\n",
      "     ------------------------------------ 124.6/124.6 kB 522.1 kB/s eta 0:00:00\n",
      "Collecting astunparse>=1.6.0\n",
      "  Downloading astunparse-1.6.3-py2.py3-none-any.whl (12 kB)\n",
      "Collecting google-pasta>=0.1.1\n",
      "  Downloading google_pasta-0.2.0-py3-none-any.whl (57 kB)\n",
      "     -------------------------------------- 57.5/57.5 kB 749.7 kB/s eta 0:00:00\n",
      "Collecting tensorflow-io-gcs-filesystem>=0.23.1\n",
      "  Downloading tensorflow_io_gcs_filesystem-0.29.0-cp310-cp310-win_amd64.whl (1.5 MB)\n",
      "     ---------------------------------------- 1.5/1.5 MB 4.3 MB/s eta 0:00:00\n",
      "Collecting protobuf<3.20,>=3.9.2\n",
      "  Downloading protobuf-3.19.6-cp310-cp310-win_amd64.whl (895 kB)\n",
      "     ------------------------------------ 895.7/895.7 kB 832.9 kB/s eta 0:00:00\n",
      "Requirement already satisfied: six>=1.12.0 in c:\\users\\mo darwesh\\anaconda3\\envs\\cvd_risk\\lib\\site-packages (from tensorflow-intel==2.11.0->tensorflow) (1.16.0)\n",
      "Requirement already satisfied: packaging in c:\\users\\mo darwesh\\anaconda3\\envs\\cvd_risk\\lib\\site-packages (from tensorflow-intel==2.11.0->tensorflow) (21.3)\n",
      "Collecting gast<=0.4.0,>=0.2.1\n",
      "  Downloading gast-0.4.0-py3-none-any.whl (9.8 kB)\n",
      "Collecting h5py>=2.9.0\n",
      "  Downloading h5py-3.7.0-cp310-cp310-win_amd64.whl (2.6 MB)\n",
      "     ---------------------------------------- 2.6/2.6 MB 1.2 MB/s eta 0:00:00\n",
      "Collecting termcolor>=1.1.0\n",
      "  Downloading termcolor-2.1.1-py3-none-any.whl (6.2 kB)\n",
      "Collecting tensorflow-estimator<2.12,>=2.11.0\n",
      "  Downloading tensorflow_estimator-2.11.0-py2.py3-none-any.whl (439 kB)\n",
      "     -------------------------------------- 439.2/439.2 kB 5.5 MB/s eta 0:00:00\n",
      "Requirement already satisfied: wheel<1.0,>=0.23.0 in c:\\users\\mo darwesh\\anaconda3\\envs\\cvd_risk\\lib\\site-packages (from astunparse>=1.6.0->tensorflow-intel==2.11.0->tensorflow) (0.37.1)\n",
      "Requirement already satisfied: requests<3,>=2.21.0 in c:\\users\\mo darwesh\\anaconda3\\envs\\cvd_risk\\lib\\site-packages (from tensorboard<2.12,>=2.11->tensorflow-intel==2.11.0->tensorflow) (2.28.1)\n",
      "Collecting markdown>=2.6.8\n",
      "  Downloading Markdown-3.4.1-py3-none-any.whl (93 kB)\n",
      "     --------------------------------------- 93.3/93.3 kB 51.1 kB/s eta 0:00:00\n",
      "Collecting tensorboard-plugin-wit>=1.6.0\n",
      "  Downloading tensorboard_plugin_wit-1.8.1-py3-none-any.whl (781 kB)\n",
      "     ------------------------------------- 781.3/781.3 kB 12.4 MB/s eta 0:00:00\n",
      "Collecting google-auth<3,>=1.6.3\n",
      "  Downloading google_auth-2.15.0-py2.py3-none-any.whl (177 kB)\n",
      "     -------------------------------------- 177.0/177.0 kB 3.5 MB/s eta 0:00:00\n",
      "Collecting google-auth-oauthlib<0.5,>=0.4.1\n",
      "  Downloading google_auth_oauthlib-0.4.6-py2.py3-none-any.whl (18 kB)\n",
      "Collecting tensorboard-data-server<0.7.0,>=0.6.0\n",
      "  Downloading tensorboard_data_server-0.6.1-py3-none-any.whl (2.4 kB)\n",
      "Collecting werkzeug>=1.0.1\n",
      "  Downloading Werkzeug-2.2.2-py3-none-any.whl (232 kB)\n",
      "     -------------------------------------- 232.7/232.7 kB 4.8 MB/s eta 0:00:00\n",
      "Requirement already satisfied: pyparsing!=3.0.5,>=2.0.2 in c:\\users\\mo darwesh\\anaconda3\\envs\\cvd_risk\\lib\\site-packages (from packaging->tensorflow-intel==2.11.0->tensorflow) (3.0.9)\n",
      "Collecting pyasn1-modules>=0.2.1\n",
      "  Downloading pyasn1_modules-0.2.8-py2.py3-none-any.whl (155 kB)\n",
      "     -------------------------------------- 155.3/155.3 kB 1.2 MB/s eta 0:00:00\n",
      "Collecting rsa<5,>=3.1.4\n",
      "  Downloading rsa-4.9-py3-none-any.whl (34 kB)\n",
      "Collecting cachetools<6.0,>=2.0.0\n",
      "  Downloading cachetools-5.2.0-py3-none-any.whl (9.3 kB)\n",
      "Collecting requests-oauthlib>=0.7.0\n",
      "  Downloading requests_oauthlib-1.3.1-py2.py3-none-any.whl (23 kB)\n",
      "Requirement already satisfied: charset-normalizer<3,>=2 in c:\\users\\mo darwesh\\anaconda3\\envs\\cvd_risk\\lib\\site-packages (from requests<3,>=2.21.0->tensorboard<2.12,>=2.11->tensorflow-intel==2.11.0->tensorflow) (2.0.4)\n",
      "Requirement already satisfied: idna<4,>=2.5 in c:\\users\\mo darwesh\\anaconda3\\envs\\cvd_risk\\lib\\site-packages (from requests<3,>=2.21.0->tensorboard<2.12,>=2.11->tensorflow-intel==2.11.0->tensorflow) (3.4)\n",
      "Requirement already satisfied: urllib3<1.27,>=1.21.1 in c:\\users\\mo darwesh\\anaconda3\\envs\\cvd_risk\\lib\\site-packages (from requests<3,>=2.21.0->tensorboard<2.12,>=2.11->tensorflow-intel==2.11.0->tensorflow) (1.26.13)\n",
      "Requirement already satisfied: certifi>=2017.4.17 in c:\\users\\mo darwesh\\anaconda3\\envs\\cvd_risk\\lib\\site-packages (from requests<3,>=2.21.0->tensorboard<2.12,>=2.11->tensorflow-intel==2.11.0->tensorflow) (2022.9.24)\n",
      "Requirement already satisfied: MarkupSafe>=2.1.1 in c:\\users\\mo darwesh\\anaconda3\\envs\\cvd_risk\\lib\\site-packages (from werkzeug>=1.0.1->tensorboard<2.12,>=2.11->tensorflow-intel==2.11.0->tensorflow) (2.1.1)\n",
      "Collecting pyasn1<0.5.0,>=0.4.6\n",
      "  Downloading pyasn1-0.4.8-py2.py3-none-any.whl (77 kB)\n",
      "     -------------------------------------- 77.1/77.1 kB 535.2 kB/s eta 0:00:00\n",
      "Collecting oauthlib>=3.0.0\n",
      "  Downloading oauthlib-3.2.2-py3-none-any.whl (151 kB)\n",
      "     -------------------------------------- 151.7/151.7 kB 1.1 MB/s eta 0:00:00\n",
      "Installing collected packages: tensorboard-plugin-wit, pyasn1, libclang, flatbuffers, wrapt, werkzeug, termcolor, tensorflow-io-gcs-filesystem, tensorflow-estimator, tensorboard-data-server, rsa, pyasn1-modules, protobuf, opt-einsum, oauthlib, markdown, h5py, grpcio, google-pasta, gast, cachetools, astunparse, absl-py, requests-oauthlib, google-auth, google-auth-oauthlib, tensorboard, tensorflow-intel, tensorflow\n",
      "Successfully installed absl-py-1.3.0 astunparse-1.6.3 cachetools-5.2.0 flatbuffers-22.12.6 gast-0.4.0 google-auth-2.15.0 google-auth-oauthlib-0.4.6 google-pasta-0.2.0 grpcio-1.51.1 h5py-3.7.0 libclang-14.0.6 markdown-3.4.1 oauthlib-3.2.2 opt-einsum-3.3.0 protobuf-3.19.6 pyasn1-0.4.8 pyasn1-modules-0.2.8 requests-oauthlib-1.3.1 rsa-4.9 tensorboard-2.11.0 tensorboard-data-server-0.6.1 tensorboard-plugin-wit-1.8.1 tensorflow-2.11.0 tensorflow-estimator-2.11.0 tensorflow-intel-2.11.0 tensorflow-io-gcs-filesystem-0.29.0 termcolor-2.1.1 werkzeug-2.2.2 wrapt-1.14.1\n",
      "Note: you may need to restart the kernel to use updated packages.\n"
     ]
    }
   ],
   "source": [
    "%pip install pandas\n",
    "%pip install mlxtend\n",
    "%pip install seaborn\n",
    "%pip install openpyxl\n",
    "%pip install keras\n",
    "%pip install tensorflow"
   ]
  },
  {
   "cell_type": "markdown",
   "metadata": {},
   "source": [
    "## Importing Libraries"
   ]
  },
  {
   "cell_type": "code",
   "execution_count": 2,
   "metadata": {},
   "outputs": [],
   "source": [
    "# Data Loading and Numerical Operations\n",
    "import pandas as pd\n",
    "import numpy as np\n",
    "# Data Visualizations\n",
    "import matplotlib.pyplot as plt\n",
    "%matplotlib inline\n",
    "import seaborn as sns\n",
    "# Data Resampling\n",
    "from sklearn.utils import resample\n",
    "# Data Feature Selection\n",
    "from sklearn.feature_selection import SelectKBest\n",
    "from sklearn.feature_selection import chi2\n",
    "# Data Splitting\n",
    "from sklearn.model_selection import train_test_split\n",
    "# Data Scaling\n",
    "from sklearn.preprocessing import MinMaxScaler\n",
    "# Data Modeling\n",
    "from sklearn.linear_model import LogisticRegression\n",
    "from sklearn.neighbors import KNeighborsClassifier\n",
    "from sklearn.ensemble import RandomForestClassifier\n",
    "from sklearn.tree import DecisionTreeClassifier\n",
    "from sklearn.ensemble import GradientBoostingClassifier\n",
    "from sklearn.neural_network import MLPClassifier\n",
    "from sklearn.metrics import confusion_matrix, accuracy_score, roc_curve, classification_report\n",
    "# Hyperparameter Tuning\n",
    "from sklearn.model_selection import RandomizedSearchCV\n",
    "from sklearn.model_selection import GridSearchCV\n",
    "# Ensembling\n",
    "import mlxtend\n",
    "from mlxtend.classifier import StackingCVClassifier"
   ]
  },
  {
   "cell_type": "markdown",
   "metadata": {},
   "source": [
    "## Reading Different Data"
   ]
  },
  {
   "cell_type": "markdown",
   "metadata": {},
   "source": [
    "## Office-based datasets\n",
    "\n",
    "#### Description \n",
    "- These datasets are based on WHO/ISH risk prediction chart for use where measurement of cholesterol level is not possible (office-based). This chart indicates total 10-year risk of a fatal or non-fatal cardiovascular event (myocardial infarction or stroke), according to age, sex, blood pressure, presence or absence of diabetes, and smoking status.\n",
    "\n",
    "#### list\n",
    "1. Kaggle dataset\n",
    "2. Indonesian dataset\n",
    "3. Indian dataset"
   ]
  },
  {
   "cell_type": "markdown",
   "metadata": {},
   "source": [
    "### Kaggle dataset "
   ]
  },
  {
   "cell_type": "code",
   "execution_count": 3,
   "metadata": {},
   "outputs": [
    {
     "name": "stdout",
     "output_type": "stream",
     "text": [
      "<class 'pandas.core.frame.DataFrame'>\n",
      "RangeIndex: 70000 entries, 0 to 69999\n",
      "Data columns (total 13 columns):\n",
      " #   Column       Non-Null Count  Dtype  \n",
      "---  ------       --------------  -----  \n",
      " 0   id           70000 non-null  int64  \n",
      " 1   age          70000 non-null  int64  \n",
      " 2   gender       70000 non-null  int64  \n",
      " 3   height       70000 non-null  int64  \n",
      " 4   weight       70000 non-null  float64\n",
      " 5   ap_hi        70000 non-null  int64  \n",
      " 6   ap_lo        70000 non-null  int64  \n",
      " 7   cholesterol  70000 non-null  int64  \n",
      " 8   gluc         70000 non-null  int64  \n",
      " 9   smoke        70000 non-null  int64  \n",
      " 10  alco         70000 non-null  int64  \n",
      " 11  active       70000 non-null  int64  \n",
      " 12  cardio       70000 non-null  int64  \n",
      "dtypes: float64(1), int64(12)\n",
      "memory usage: 6.9 MB\n"
     ]
    }
   ],
   "source": [
    "# Reading and converting the data into a pandas dataframe\n",
    "Kaggle_df = pd.read_csv(\n",
    "    \"~/Desktop/CVD risk prediction Notebook/Datasets/Office based Datasets/Kaggle dataset/cardio_train.csv\",\n",
    "    sep=\";\")\n",
    "\n",
    "# Informtion about the raw dataset\n",
    "Kaggle_df.info()"
   ]
  },
  {
   "cell_type": "markdown",
   "metadata": {
    "tags": []
   },
   "source": [
    "#### Background\n",
    "The first dataset Collected from Kaggle (**cardio_train.csv**)  contains 70000 records with 11 independent features which is available so far for research purposes. These data were collected at the moment of medical examination and information given by the patient. The features can be listed as follows :\n",
    "\n",
    "| Column | Description |\n",
    "| ------ | ----------- |\n",
    "| age | Age (int) in days|\n",
    "| height | Height (int) |\n",
    "| weight | Weight (float) |\n",
    "| gender | Gender (categorical code )|\n",
    "| ap_hi | Systolic blood pressure (int) |\n",
    "| ap_lo | Diastolic blood pressure (int) |\n",
    "| cholesterol | Cholesterol (1:normal, 2: above normal, 3: well above normal) |\n",
    "| gluc | Glucose (1:normal, 2: above normal, 3: well above normal) |\n",
    "| smoke | Smoking (binary) |\n",
    "| alco | Alcohol intake (binary) |\n",
    "| active | Physical activity (binary) |\n",
    "| cardio | Presence or absence of cardiovascular disease (binary) |\n",
    "\n",
    "##### Citaion:\n",
    "> `Rajib Kumar Halder, November 10, 2020, \"Cardiovascular Disease Dataset\", IEEE Dataport, doi: https://dx.doi.org/10.21227/7qm5-dz13.`\n"
   ]
  },
  {
   "cell_type": "code",
   "execution_count": 4,
   "metadata": {},
   "outputs": [
    {
     "name": "stdout",
     "output_type": "stream",
     "text": [
      "Missing values:  0 \n",
      "\n",
      "Dataset contains no Duplicate Values\n"
     ]
    }
   ],
   "source": [
    "# Checking Missing values in the dataset\n",
    "\n",
    "num_Missing_values = Kaggle_df.isna().sum().sum()\n",
    "print('Missing values: ', num_Missing_values, '\\n')\n",
    "\n",
    "# Checking dupicated values in the dataset\n",
    "duplicates = Kaggle_df.duplicated().sum()\n",
    "if duplicates:\n",
    "    print('Duplicates Rows in Dataset are : {}'.format(duplicates))\n",
    "else:\n",
    "    print('Dataset contains no Duplicate Values')"
   ]
  },
  {
   "cell_type": "markdown",
   "metadata": {},
   "source": [
    "####  Data Preprocessing and Cleaning \n",
    "For our Machine learning pipeline, the office-based CVD risk screening variables will be defined with the following uniforms description and types: \n",
    " \n",
    "| Column | Description |\n",
    "| ------ | ----------- |\n",
    "| Age | **(float) in years** |\n",
    "| Gender |**(categorical code) 1: Female, 2: Male**|\n",
    "| SysBP |(float) Systolic blood pressure  |\n",
    "| Diabetes |**(categorical code) 1: Diabetic, 0: Non-Diabetic** |\n",
    "| Smoking |**(categorical code) 1: Smoker, 0: Non-Smoker** |\n",
    "| CVD risk |**Target label (binary)** 1: Presence of CVD,  0: absence of CVD|"
   ]
  },
  {
   "cell_type": "code",
   "execution_count": 5,
   "metadata": {},
   "outputs": [
    {
     "data": {
      "text/html": [
       "<div>\n",
       "<style scoped>\n",
       "    .dataframe tbody tr th:only-of-type {\n",
       "        vertical-align: middle;\n",
       "    }\n",
       "\n",
       "    .dataframe tbody tr th {\n",
       "        vertical-align: top;\n",
       "    }\n",
       "\n",
       "    .dataframe thead th {\n",
       "        text-align: right;\n",
       "    }\n",
       "</style>\n",
       "<table border=\"1\" class=\"dataframe\">\n",
       "  <thead>\n",
       "    <tr style=\"text-align: right;\">\n",
       "      <th></th>\n",
       "      <th>age</th>\n",
       "      <th>gender</th>\n",
       "      <th>ap_hi</th>\n",
       "      <th>gluc</th>\n",
       "      <th>smoke</th>\n",
       "      <th>cardio</th>\n",
       "    </tr>\n",
       "  </thead>\n",
       "  <tbody>\n",
       "    <tr>\n",
       "      <th>0</th>\n",
       "      <td>18393</td>\n",
       "      <td>2</td>\n",
       "      <td>110</td>\n",
       "      <td>1</td>\n",
       "      <td>0</td>\n",
       "      <td>0</td>\n",
       "    </tr>\n",
       "    <tr>\n",
       "      <th>1</th>\n",
       "      <td>20228</td>\n",
       "      <td>1</td>\n",
       "      <td>140</td>\n",
       "      <td>1</td>\n",
       "      <td>0</td>\n",
       "      <td>1</td>\n",
       "    </tr>\n",
       "    <tr>\n",
       "      <th>2</th>\n",
       "      <td>18857</td>\n",
       "      <td>1</td>\n",
       "      <td>130</td>\n",
       "      <td>1</td>\n",
       "      <td>0</td>\n",
       "      <td>1</td>\n",
       "    </tr>\n",
       "    <tr>\n",
       "      <th>3</th>\n",
       "      <td>17623</td>\n",
       "      <td>2</td>\n",
       "      <td>150</td>\n",
       "      <td>1</td>\n",
       "      <td>0</td>\n",
       "      <td>1</td>\n",
       "    </tr>\n",
       "    <tr>\n",
       "      <th>4</th>\n",
       "      <td>17474</td>\n",
       "      <td>1</td>\n",
       "      <td>100</td>\n",
       "      <td>1</td>\n",
       "      <td>0</td>\n",
       "      <td>0</td>\n",
       "    </tr>\n",
       "  </tbody>\n",
       "</table>\n",
       "</div>"
      ],
      "text/plain": [
       "     age  gender  ap_hi  gluc  smoke  cardio\n",
       "0  18393       2    110     1      0       0\n",
       "1  20228       1    140     1      0       1\n",
       "2  18857       1    130     1      0       1\n",
       "3  17623       2    150     1      0       1\n",
       "4  17474       1    100     1      0       0"
      ]
     },
     "execution_count": 5,
     "metadata": {},
     "output_type": "execute_result"
    }
   ],
   "source": [
    "# define variable columns based on office-based CVD screening strategy\n",
    "Kaggle_df = Kaggle_df.loc[:,['age','gender','ap_hi','gluc','smoke','cardio']]\n",
    "Kaggle_df.head()"
   ]
  },
  {
   "cell_type": "code",
   "execution_count": 6,
   "metadata": {},
   "outputs": [
    {
     "data": {
      "text/html": [
       "<div>\n",
       "<style scoped>\n",
       "    .dataframe tbody tr th:only-of-type {\n",
       "        vertical-align: middle;\n",
       "    }\n",
       "\n",
       "    .dataframe tbody tr th {\n",
       "        vertical-align: top;\n",
       "    }\n",
       "\n",
       "    .dataframe thead th {\n",
       "        text-align: right;\n",
       "    }\n",
       "</style>\n",
       "<table border=\"1\" class=\"dataframe\">\n",
       "  <thead>\n",
       "    <tr style=\"text-align: right;\">\n",
       "      <th></th>\n",
       "      <th>Age</th>\n",
       "      <th>Gender</th>\n",
       "      <th>SysBP</th>\n",
       "      <th>Diabetes</th>\n",
       "      <th>Smoking</th>\n",
       "      <th>CVD risk</th>\n",
       "    </tr>\n",
       "  </thead>\n",
       "  <tbody>\n",
       "    <tr>\n",
       "      <th>0</th>\n",
       "      <td>18393</td>\n",
       "      <td>2</td>\n",
       "      <td>110</td>\n",
       "      <td>1</td>\n",
       "      <td>0</td>\n",
       "      <td>0</td>\n",
       "    </tr>\n",
       "    <tr>\n",
       "      <th>1</th>\n",
       "      <td>20228</td>\n",
       "      <td>1</td>\n",
       "      <td>140</td>\n",
       "      <td>1</td>\n",
       "      <td>0</td>\n",
       "      <td>1</td>\n",
       "    </tr>\n",
       "    <tr>\n",
       "      <th>2</th>\n",
       "      <td>18857</td>\n",
       "      <td>1</td>\n",
       "      <td>130</td>\n",
       "      <td>1</td>\n",
       "      <td>0</td>\n",
       "      <td>1</td>\n",
       "    </tr>\n",
       "    <tr>\n",
       "      <th>3</th>\n",
       "      <td>17623</td>\n",
       "      <td>2</td>\n",
       "      <td>150</td>\n",
       "      <td>1</td>\n",
       "      <td>0</td>\n",
       "      <td>1</td>\n",
       "    </tr>\n",
       "    <tr>\n",
       "      <th>4</th>\n",
       "      <td>17474</td>\n",
       "      <td>1</td>\n",
       "      <td>100</td>\n",
       "      <td>1</td>\n",
       "      <td>0</td>\n",
       "      <td>0</td>\n",
       "    </tr>\n",
       "  </tbody>\n",
       "</table>\n",
       "</div>"
      ],
      "text/plain": [
       "     Age  Gender  SysBP  Diabetes  Smoking  CVD risk\n",
       "0  18393       2    110         1        0         0\n",
       "1  20228       1    140         1        0         1\n",
       "2  18857       1    130         1        0         1\n",
       "3  17623       2    150         1        0         1\n",
       "4  17474       1    100         1        0         0"
      ]
     },
     "execution_count": 6,
     "metadata": {},
     "output_type": "execute_result"
    }
   ],
   "source": [
    "# Uniforming the columns names\n",
    "Kaggle_df.rename({'age': 'Age', \n",
    "                              'gender': 'Gender',\n",
    "                              'ap_hi': 'SysBP',\n",
    "                              'gluc' : 'Diabetes',\n",
    "                              'smoke' : 'Smoking',\n",
    "                              'cardio' : 'CVD risk'}, axis = 1, inplace = True)\n",
    "Kaggle_df.head()"
   ]
  },
  {
   "cell_type": "code",
   "execution_count": 7,
   "metadata": {},
   "outputs": [
    {
     "name": "stdout",
     "output_type": "stream",
     "text": [
      "<class 'pandas.core.frame.DataFrame'>\n",
      "RangeIndex: 70000 entries, 0 to 69999\n",
      "Data columns (total 6 columns):\n",
      " #   Column    Non-Null Count  Dtype\n",
      "---  ------    --------------  -----\n",
      " 0   Age       70000 non-null  int64\n",
      " 1   Gender    70000 non-null  int64\n",
      " 2   SysBP     70000 non-null  int64\n",
      " 3   Diabetes  70000 non-null  int64\n",
      " 4   Smoking   70000 non-null  int64\n",
      " 5   CVD risk  70000 non-null  int64\n",
      "dtypes: int64(6)\n",
      "memory usage: 3.2 MB\n"
     ]
    }
   ],
   "source": [
    "Kaggle_df.info()"
   ]
  },
  {
   "cell_type": "code",
   "execution_count": 8,
   "metadata": {},
   "outputs": [
    {
     "data": {
      "text/html": [
       "<div>\n",
       "<style scoped>\n",
       "    .dataframe tbody tr th:only-of-type {\n",
       "        vertical-align: middle;\n",
       "    }\n",
       "\n",
       "    .dataframe tbody tr th {\n",
       "        vertical-align: top;\n",
       "    }\n",
       "\n",
       "    .dataframe thead th {\n",
       "        text-align: right;\n",
       "    }\n",
       "</style>\n",
       "<table border=\"1\" class=\"dataframe\">\n",
       "  <thead>\n",
       "    <tr style=\"text-align: right;\">\n",
       "      <th></th>\n",
       "      <th>Age</th>\n",
       "      <th>Gender</th>\n",
       "      <th>SysBP</th>\n",
       "      <th>Diabetes</th>\n",
       "      <th>Smoking</th>\n",
       "      <th>CVD risk</th>\n",
       "    </tr>\n",
       "  </thead>\n",
       "  <tbody>\n",
       "    <tr>\n",
       "      <th>0</th>\n",
       "      <td>50.4</td>\n",
       "      <td>2</td>\n",
       "      <td>110</td>\n",
       "      <td>1</td>\n",
       "      <td>0</td>\n",
       "      <td>0</td>\n",
       "    </tr>\n",
       "    <tr>\n",
       "      <th>1</th>\n",
       "      <td>55.4</td>\n",
       "      <td>1</td>\n",
       "      <td>140</td>\n",
       "      <td>1</td>\n",
       "      <td>0</td>\n",
       "      <td>1</td>\n",
       "    </tr>\n",
       "    <tr>\n",
       "      <th>2</th>\n",
       "      <td>51.7</td>\n",
       "      <td>1</td>\n",
       "      <td>130</td>\n",
       "      <td>1</td>\n",
       "      <td>0</td>\n",
       "      <td>1</td>\n",
       "    </tr>\n",
       "    <tr>\n",
       "      <th>3</th>\n",
       "      <td>48.3</td>\n",
       "      <td>2</td>\n",
       "      <td>150</td>\n",
       "      <td>1</td>\n",
       "      <td>0</td>\n",
       "      <td>1</td>\n",
       "    </tr>\n",
       "    <tr>\n",
       "      <th>4</th>\n",
       "      <td>47.9</td>\n",
       "      <td>1</td>\n",
       "      <td>100</td>\n",
       "      <td>1</td>\n",
       "      <td>0</td>\n",
       "      <td>0</td>\n",
       "    </tr>\n",
       "    <tr>\n",
       "      <th>5</th>\n",
       "      <td>60.0</td>\n",
       "      <td>1</td>\n",
       "      <td>120</td>\n",
       "      <td>2</td>\n",
       "      <td>0</td>\n",
       "      <td>0</td>\n",
       "    </tr>\n",
       "    <tr>\n",
       "      <th>6</th>\n",
       "      <td>60.6</td>\n",
       "      <td>1</td>\n",
       "      <td>130</td>\n",
       "      <td>1</td>\n",
       "      <td>0</td>\n",
       "      <td>0</td>\n",
       "    </tr>\n",
       "    <tr>\n",
       "      <th>7</th>\n",
       "      <td>61.9</td>\n",
       "      <td>2</td>\n",
       "      <td>130</td>\n",
       "      <td>3</td>\n",
       "      <td>0</td>\n",
       "      <td>1</td>\n",
       "    </tr>\n",
       "    <tr>\n",
       "      <th>8</th>\n",
       "      <td>48.4</td>\n",
       "      <td>1</td>\n",
       "      <td>110</td>\n",
       "      <td>1</td>\n",
       "      <td>0</td>\n",
       "      <td>0</td>\n",
       "    </tr>\n",
       "    <tr>\n",
       "      <th>9</th>\n",
       "      <td>54.3</td>\n",
       "      <td>1</td>\n",
       "      <td>110</td>\n",
       "      <td>1</td>\n",
       "      <td>0</td>\n",
       "      <td>0</td>\n",
       "    </tr>\n",
       "  </tbody>\n",
       "</table>\n",
       "</div>"
      ],
      "text/plain": [
       "    Age  Gender  SysBP  Diabetes  Smoking  CVD risk\n",
       "0  50.4       2    110         1        0         0\n",
       "1  55.4       1    140         1        0         1\n",
       "2  51.7       1    130         1        0         1\n",
       "3  48.3       2    150         1        0         1\n",
       "4  47.9       1    100         1        0         0\n",
       "5  60.0       1    120         2        0         0\n",
       "6  60.6       1    130         1        0         0\n",
       "7  61.9       2    130         3        0         1\n",
       "8  48.4       1    110         1        0         0\n",
       "9  54.3       1    110         1        0         0"
      ]
     },
     "execution_count": 8,
     "metadata": {},
     "output_type": "execute_result"
    }
   ],
   "source": [
    "# Uniforming & Rounding the value of Age column\n",
    "Kaggle_df['Age']=Kaggle_df['Age'].apply(lambda x:round(x/365,1))\n",
    "Kaggle_df.head(10)"
   ]
  },
  {
   "cell_type": "code",
   "execution_count": 9,
   "metadata": {},
   "outputs": [
    {
     "data": {
      "text/html": [
       "<div>\n",
       "<style scoped>\n",
       "    .dataframe tbody tr th:only-of-type {\n",
       "        vertical-align: middle;\n",
       "    }\n",
       "\n",
       "    .dataframe tbody tr th {\n",
       "        vertical-align: top;\n",
       "    }\n",
       "\n",
       "    .dataframe thead th {\n",
       "        text-align: right;\n",
       "    }\n",
       "</style>\n",
       "<table border=\"1\" class=\"dataframe\">\n",
       "  <thead>\n",
       "    <tr style=\"text-align: right;\">\n",
       "      <th></th>\n",
       "      <th>Age</th>\n",
       "      <th>Gender</th>\n",
       "      <th>SysBP</th>\n",
       "      <th>Diabetes</th>\n",
       "      <th>Smoking</th>\n",
       "      <th>CVD risk</th>\n",
       "    </tr>\n",
       "  </thead>\n",
       "  <tbody>\n",
       "    <tr>\n",
       "      <th>0</th>\n",
       "      <td>50.4</td>\n",
       "      <td>2</td>\n",
       "      <td>110</td>\n",
       "      <td>0</td>\n",
       "      <td>0</td>\n",
       "      <td>0</td>\n",
       "    </tr>\n",
       "    <tr>\n",
       "      <th>1</th>\n",
       "      <td>55.4</td>\n",
       "      <td>1</td>\n",
       "      <td>140</td>\n",
       "      <td>0</td>\n",
       "      <td>0</td>\n",
       "      <td>1</td>\n",
       "    </tr>\n",
       "    <tr>\n",
       "      <th>2</th>\n",
       "      <td>51.7</td>\n",
       "      <td>1</td>\n",
       "      <td>130</td>\n",
       "      <td>0</td>\n",
       "      <td>0</td>\n",
       "      <td>1</td>\n",
       "    </tr>\n",
       "    <tr>\n",
       "      <th>3</th>\n",
       "      <td>48.3</td>\n",
       "      <td>2</td>\n",
       "      <td>150</td>\n",
       "      <td>0</td>\n",
       "      <td>0</td>\n",
       "      <td>1</td>\n",
       "    </tr>\n",
       "    <tr>\n",
       "      <th>4</th>\n",
       "      <td>47.9</td>\n",
       "      <td>1</td>\n",
       "      <td>100</td>\n",
       "      <td>0</td>\n",
       "      <td>0</td>\n",
       "      <td>0</td>\n",
       "    </tr>\n",
       "    <tr>\n",
       "      <th>5</th>\n",
       "      <td>60.0</td>\n",
       "      <td>1</td>\n",
       "      <td>120</td>\n",
       "      <td>1</td>\n",
       "      <td>0</td>\n",
       "      <td>0</td>\n",
       "    </tr>\n",
       "    <tr>\n",
       "      <th>6</th>\n",
       "      <td>60.6</td>\n",
       "      <td>1</td>\n",
       "      <td>130</td>\n",
       "      <td>0</td>\n",
       "      <td>0</td>\n",
       "      <td>0</td>\n",
       "    </tr>\n",
       "    <tr>\n",
       "      <th>7</th>\n",
       "      <td>61.9</td>\n",
       "      <td>2</td>\n",
       "      <td>130</td>\n",
       "      <td>1</td>\n",
       "      <td>0</td>\n",
       "      <td>1</td>\n",
       "    </tr>\n",
       "    <tr>\n",
       "      <th>8</th>\n",
       "      <td>48.4</td>\n",
       "      <td>1</td>\n",
       "      <td>110</td>\n",
       "      <td>0</td>\n",
       "      <td>0</td>\n",
       "      <td>0</td>\n",
       "    </tr>\n",
       "    <tr>\n",
       "      <th>9</th>\n",
       "      <td>54.3</td>\n",
       "      <td>1</td>\n",
       "      <td>110</td>\n",
       "      <td>0</td>\n",
       "      <td>0</td>\n",
       "      <td>0</td>\n",
       "    </tr>\n",
       "  </tbody>\n",
       "</table>\n",
       "</div>"
      ],
      "text/plain": [
       "    Age  Gender  SysBP  Diabetes  Smoking  CVD risk\n",
       "0  50.4       2    110         0        0         0\n",
       "1  55.4       1    140         0        0         1\n",
       "2  51.7       1    130         0        0         1\n",
       "3  48.3       2    150         0        0         1\n",
       "4  47.9       1    100         0        0         0\n",
       "5  60.0       1    120         1        0         0\n",
       "6  60.6       1    130         0        0         0\n",
       "7  61.9       2    130         1        0         1\n",
       "8  48.4       1    110         0        0         0\n",
       "9  54.3       1    110         0        0         0"
      ]
     },
     "execution_count": 9,
     "metadata": {},
     "output_type": "execute_result"
    }
   ],
   "source": [
    "# Correcting categories of Diabetes variables\n",
    "Kaggle_df['Diabetes'].replace({1 : 0, 2 : 1, 3 : 1}, inplace = True)\n",
    "\n",
    "Kaggle_df.head(10)"
   ]
  },
  {
   "cell_type": "code",
   "execution_count": 10,
   "metadata": {},
   "outputs": [
    {
     "name": "stdout",
     "output_type": "stream",
     "text": [
      "<class 'pandas.core.frame.DataFrame'>\n",
      "RangeIndex: 70000 entries, 0 to 69999\n",
      "Data columns (total 6 columns):\n",
      " #   Column    Non-Null Count  Dtype  \n",
      "---  ------    --------------  -----  \n",
      " 0   Age       70000 non-null  float64\n",
      " 1   Gender    70000 non-null  int64  \n",
      " 2   SysBP     70000 non-null  float64\n",
      " 3   Diabetes  70000 non-null  int64  \n",
      " 4   Smoking   70000 non-null  int64  \n",
      " 5   CVD risk  70000 non-null  int64  \n",
      "dtypes: float64(2), int64(4)\n",
      "memory usage: 3.2 MB\n"
     ]
    }
   ],
   "source": [
    "# Defining the coorect types of the variables\n",
    "\n",
    "Kaggle_df['Age'] = Kaggle_df['Age'].astype(\"float\")\n",
    "Kaggle_df['SysBP'] = Kaggle_df['SysBP'].astype(\"float\")\n",
    "\n",
    "\n",
    "Kaggle_df.info()"
   ]
  },
  {
   "cell_type": "code",
   "execution_count": 11,
   "metadata": {},
   "outputs": [
    {
     "data": {
      "text/html": [
       "<div>\n",
       "<style scoped>\n",
       "    .dataframe tbody tr th:only-of-type {\n",
       "        vertical-align: middle;\n",
       "    }\n",
       "\n",
       "    .dataframe tbody tr th {\n",
       "        vertical-align: top;\n",
       "    }\n",
       "\n",
       "    .dataframe thead th {\n",
       "        text-align: right;\n",
       "    }\n",
       "</style>\n",
       "<table border=\"1\" class=\"dataframe\">\n",
       "  <thead>\n",
       "    <tr style=\"text-align: right;\">\n",
       "      <th></th>\n",
       "      <th>Age</th>\n",
       "      <th>SysBP</th>\n",
       "    </tr>\n",
       "  </thead>\n",
       "  <tbody>\n",
       "    <tr>\n",
       "      <th>count</th>\n",
       "      <td>70000.000000</td>\n",
       "      <td>70000.000000</td>\n",
       "    </tr>\n",
       "    <tr>\n",
       "      <th>mean</th>\n",
       "      <td>53.339486</td>\n",
       "      <td>128.817286</td>\n",
       "    </tr>\n",
       "    <tr>\n",
       "      <th>std</th>\n",
       "      <td>6.759534</td>\n",
       "      <td>154.011419</td>\n",
       "    </tr>\n",
       "    <tr>\n",
       "      <th>min</th>\n",
       "      <td>29.600000</td>\n",
       "      <td>-150.000000</td>\n",
       "    </tr>\n",
       "    <tr>\n",
       "      <th>25%</th>\n",
       "      <td>48.400000</td>\n",
       "      <td>120.000000</td>\n",
       "    </tr>\n",
       "    <tr>\n",
       "      <th>50%</th>\n",
       "      <td>54.000000</td>\n",
       "      <td>120.000000</td>\n",
       "    </tr>\n",
       "    <tr>\n",
       "      <th>75%</th>\n",
       "      <td>58.400000</td>\n",
       "      <td>140.000000</td>\n",
       "    </tr>\n",
       "    <tr>\n",
       "      <th>max</th>\n",
       "      <td>65.000000</td>\n",
       "      <td>16020.000000</td>\n",
       "    </tr>\n",
       "  </tbody>\n",
       "</table>\n",
       "</div>"
      ],
      "text/plain": [
       "                Age         SysBP\n",
       "count  70000.000000  70000.000000\n",
       "mean      53.339486    128.817286\n",
       "std        6.759534    154.011419\n",
       "min       29.600000   -150.000000\n",
       "25%       48.400000    120.000000\n",
       "50%       54.000000    120.000000\n",
       "75%       58.400000    140.000000\n",
       "max       65.000000  16020.000000"
      ]
     },
     "execution_count": 11,
     "metadata": {},
     "output_type": "execute_result"
    }
   ],
   "source": [
    "# Checking the brief statistical properities of the numerical variables in the dataset\n",
    "numeric_features = ['Age', 'SysBP']\n",
    "Kaggle_df[numeric_features].describe()"
   ]
  },
  {
   "cell_type": "markdown",
   "metadata": {},
   "source": [
    "#### Observations\n",
    "\n",
    "- Age has normal range between 29.6 to 65 years.\n",
    "- Systolic blood pressure \"SysBP\" cannot be negative or more than 280 mmHg.Therefore, min and max values are not realistic."
   ]
  },
  {
   "cell_type": "code",
   "execution_count": 12,
   "metadata": {},
   "outputs": [
    {
     "name": "stdout",
     "output_type": "stream",
     "text": [
      "The total number of outliers is: 228 \n",
      "Percent of data will be missing: 0.3%\n"
     ]
    }
   ],
   "source": [
    "# outliers detection\n",
    "\n",
    "outliers = len(Kaggle_df[(Kaggle_df[\"SysBP\"]>=280) | (Kaggle_df[\"SysBP\"] < 60)])\n",
    "\n",
    "print(f'The total number of outliers is: {outliers} ')\n",
    "print(f'Percent of data will be missing: {round(outliers/len(Kaggle_df)*100,1)}%')"
   ]
  },
  {
   "cell_type": "code",
   "execution_count": 13,
   "metadata": {},
   "outputs": [
    {
     "data": {
      "text/plain": [
       "count    69772.000000\n",
       "mean       127.001820\n",
       "std         17.096568\n",
       "min         60.000000\n",
       "25%        120.000000\n",
       "50%        120.000000\n",
       "75%        140.000000\n",
       "max        240.000000\n",
       "Name: SysBP, dtype: float64"
      ]
     },
     "execution_count": 13,
     "metadata": {},
     "output_type": "execute_result"
    }
   ],
   "source": [
    "# outliers removal\n",
    "\n",
    "Kaggle_df_filtered = Kaggle_df[ (Kaggle_df['SysBP'] < 280) & (Kaggle_df['SysBP'] >= 60) ]\n",
    "\n",
    "Kaggle_df_filtered['SysBP'].describe()"
   ]
  },
  {
   "cell_type": "code",
   "execution_count": 14,
   "metadata": {},
   "outputs": [
    {
     "data": {
      "image/png": "[encoded data removed]",
      "text/plain": [
       "<Figure size 500x500 with 1 Axes>"
      ]
     },
     "metadata": {},
     "output_type": "display_data"
    },
    {
     "data": {
      "image/png": "[encoded data removed]",
      "text/plain": [
       "<Figure size 500x500 with 1 Axes>"
      ]
     },
     "metadata": {},
     "output_type": "display_data"
    }
   ],
   "source": [
    "# Plotting the numerical variables in  the dataset\n",
    "numeric_features = ['Age', 'SysBP']\n",
    "for feature in numeric_features:\n",
    "    plt.figure(figsize=(5,5), facecolor='w')\n",
    "    sns.boxplot(data=Kaggle_df_filtered[feature])\n",
    "    plt.title(f'{feature} boxplot', fontsize=14)\n",
    "    plt.show()"
   ]
  },
  {
   "cell_type": "code",
   "execution_count": 15,
   "metadata": {},
   "outputs": [
    {
     "data": {
      "image/png": "[encoded data removed]",
      "text/plain": [
       "<Figure size 1000x500 with 1 Axes>"
      ]
     },
     "metadata": {},
     "output_type": "display_data"
    },
    {
     "data": {
      "image/png": "[encoded data removed]",
      "text/plain": [
       "<Figure size 1000x500 with 1 Axes>"
      ]
     },
     "metadata": {},
     "output_type": "display_data"
    }
   ],
   "source": [
    "for feature in numeric_features:\n",
    "    plt.figure(figsize=(10, 5))\n",
    "    sns.histplot(Kaggle_df_filtered[feature])\n",
    "    plt.title(f'{feature} Distribution', fontsize=14)\n",
    "    plt.show()"
   ]
  },
  {
   "cell_type": "markdown",
   "metadata": {},
   "source": [
    "#### Observations\n",
    "\n",
    "- Age distribution and Systolic blood pressure \"SysBP\" distribution have uneven distribution."
   ]
  },
  {
   "cell_type": "code",
   "execution_count": 16,
   "metadata": {},
   "outputs": [
    {
     "name": "stdout",
     "output_type": "stream",
     "text": [
      "Gender :\n",
      "1    45380\n",
      "2    24392\n",
      "Name: Gender, dtype: int64\n",
      "-----------------\n",
      "Diabetes :\n",
      "0    59279\n",
      "1    10493\n",
      "Name: Diabetes, dtype: int64\n",
      "-----------------\n",
      "Smoking :\n",
      "0    63612\n",
      "1     6160\n",
      "Name: Smoking, dtype: int64\n",
      "-----------------\n",
      "CVD risk :\n",
      "0    34912\n",
      "1    34860\n",
      "Name: CVD risk, dtype: int64\n",
      "-----------------\n"
     ]
    }
   ],
   "source": [
    "# Checking the brief statistical properities of the categorical variables in the dataset\n",
    "\n",
    "categorical_features = ['Gender', 'Diabetes', 'Smoking', 'CVD risk']\n",
    "for feature in categorical_features:\n",
    "    print(feature,':')\n",
    "    print(Kaggle_df_filtered[feature].value_counts())\n",
    "    print(\"-----------------\")"
   ]
  },
  {
   "cell_type": "code",
   "execution_count": 17,
   "metadata": {},
   "outputs": [
    {
     "data": {
      "image/png": "[encoded data removed]",
      "text/plain": [
       "<Figure size 1400x1400 with 4 Axes>"
      ]
     },
     "metadata": {},
     "output_type": "display_data"
    }
   ],
   "source": [
    "# Plotting the categorical variables in  the dataset\n",
    "\n",
    "num_plots = len(categorical_features)\n",
    "total_cols = 2\n",
    "total_rows = num_plots//total_cols \n",
    "fig, axs = plt.subplots(nrows=total_rows, ncols=total_cols,\n",
    "                        figsize=(7*total_cols, 7*total_rows), facecolor='w', constrained_layout=True)\n",
    "for i, var in enumerate(categorical_features):\n",
    "    row = i//total_cols\n",
    "    pos = i % total_cols\n",
    "    plot = sns.countplot(x=var, data=Kaggle_df_filtered, ax=axs[row][pos])"
   ]
  },
  {
   "cell_type": "markdown",
   "metadata": {},
   "source": [
    "Among the categorical features:\n",
    "* `Smoking` and `Diabetes` are highly imbalanced.\n",
    "* The target labl `CVD risk` is showing good class balance."
   ]
  },
  {
   "cell_type": "markdown",
   "metadata": {},
   "source": [
    "### Indonesian dataset "
   ]
  },
  {
   "cell_type": "code",
   "execution_count": 18,
   "metadata": {},
   "outputs": [
    {
     "name": "stdout",
     "output_type": "stream",
     "text": [
      "<class 'pandas.core.frame.DataFrame'>\n",
      "RangeIndex: 22093 entries, 0 to 22092\n",
      "Data columns (total 18 columns):\n",
      " #   Column          Non-Null Count  Dtype  \n",
      "---  ------          --------------  -----  \n",
      " 0   patient_id      22093 non-null  int64  \n",
      " 1   age             22093 non-null  int64  \n",
      " 2   sex             22093 non-null  object \n",
      " 3   education       22080 non-null  object \n",
      " 4   marital_status  22030 non-null  object \n",
      " 5   occupation      22086 non-null  object \n",
      " 6   sbp_avg         22010 non-null  float64\n",
      " 7   dbp_avg         22012 non-null  float64\n",
      " 8   bg_mgdl         21986 non-null  float64\n",
      " 9   bmi             21885 non-null  float64\n",
      " 10  smoking         22093 non-null  object \n",
      " 11  village         22093 non-null  object \n",
      " 12  areas           22093 non-null  object \n",
      " 13  cvdrisk         22091 non-null  object \n",
      " 14  highrisk        22093 non-null  object \n",
      " 15  bplt            22093 non-null  object \n",
      " 16  lltt            22093 non-null  object \n",
      " 17  aptt            22093 non-null  object \n",
      "dtypes: float64(4), int64(2), object(12)\n",
      "memory usage: 3.0+ MB\n"
     ]
    }
   ],
   "source": [
    "# Reading and converting the data into a pandas dataframe\n",
    "Indonesian_df = pd.read_excel(\n",
    "    \"~/Desktop/CVD risk prediction Notebook/Datasets/Office based Datasets/Indonesian dataset/SH baseline dataset_dataverse.xlsx\")\n",
    "\n",
    "# Informtion about the raw dataset\n",
    "Indonesian_df.info()"
   ]
  },
  {
   "cell_type": "markdown",
   "metadata": {},
   "source": [
    "#### Background\n",
    "This dataset includes the baseline information required for the cardiovascular disease risk factor prevalence study in the SMARThealth Extend project in Indonesia.\n",
    "\n",
    "##### Citaion:\n",
    "> `@data{DVN/WQHCIF_2019,\n",
    "author = {Devarsetty, Praveen},\n",
    "publisher = {Harvard Dataverse},\n",
    "title = {{Replication data for the “Cardiovascular disease risk factor prevalence study in SMARThealth Extend project”}},\n",
    "UNF = {UNF:6:PwU7Si8uc9HLgsfG4ZpDqw==},\n",
    "year = {2019},\n",
    "version = {DRAFT VERSION},\n",
    "doi = {10.7910/DVN/WQHCIF},\n",
    "url = {https://doi.org/10.7910/DVN/WQHCIF}\n",
    "}.`\n",
    "\n",
    "> `Maharani A, Sujarwoto, Praveen D,\n",
    "Oceandy D, Tampubolon G, Patel A (2019)\n",
    "Cardiovascular disease risk factor prevalence and\n",
    "estimated 10-year cardiovascular risk scores in\n",
    "Indonesia: The SMARThealth Extend study. PLoS\n",
    "ONE 14(4): e0215219. https://doi.org/10.1371/\n",
    "journal.pone.0215219`"
   ]
  },
  {
   "cell_type": "code",
   "execution_count": 19,
   "metadata": {},
   "outputs": [
    {
     "name": "stdout",
     "output_type": "stream",
     "text": [
      "Missing values:  564 \n",
      "\n",
      "Dataset contains no Duplicate Values\n"
     ]
    }
   ],
   "source": [
    "# Checking Missing values in the dataset\n",
    "num_Missing_values_Indo = Indonesian_df.isna().sum().sum()\n",
    "print('Missing values: ', num_Missing_values_Indo, '\\n')\n",
    "\n",
    "# Checking dupicated values in the dataset\n",
    "duplicates_Indo = Indonesian_df.duplicated().sum()\n",
    "if duplicates_Indo:\n",
    "    print('Duplicates Rows in Dataset are : {}'.format(duplicates_Indo))\n",
    "else:\n",
    "    print('Dataset contains no Duplicate Values')"
   ]
  },
  {
   "cell_type": "markdown",
   "metadata": {},
   "source": [
    "####  Data Preprocessing and Cleaning \n",
    "For our Machine learning pipeline, the office-based CVD risk screening variables will be defined with the following uniforms description and types: \n",
    " \n",
    "| Column | Description |\n",
    "| ------ | ----------- |\n",
    "| Age | **(float) in years** |\n",
    "| Gender |**(categorical code) 1: Female, 2: Male**|\n",
    "| SysBP |**(float) Systolic blood pressure**  |\n",
    "| Diabetes |**(categorical code) 1: Diabetic, 0: Non-Diabetic** |\n",
    "| Smoking |**(categorical code) 1: Smoker, 0: Non-Smoker** |\n",
    "| CVD risk |**Target label (binary) 1: Presence of CVD,  0: absence of CVD**|"
   ]
  },
  {
   "cell_type": "code",
   "execution_count": 20,
   "metadata": {},
   "outputs": [
    {
     "data": {
      "text/html": [
       "<div>\n",
       "<style scoped>\n",
       "    .dataframe tbody tr th:only-of-type {\n",
       "        vertical-align: middle;\n",
       "    }\n",
       "\n",
       "    .dataframe tbody tr th {\n",
       "        vertical-align: top;\n",
       "    }\n",
       "\n",
       "    .dataframe thead th {\n",
       "        text-align: right;\n",
       "    }\n",
       "</style>\n",
       "<table border=\"1\" class=\"dataframe\">\n",
       "  <thead>\n",
       "    <tr style=\"text-align: right;\">\n",
       "      <th></th>\n",
       "      <th>age</th>\n",
       "      <th>sex</th>\n",
       "      <th>sbp_avg</th>\n",
       "      <th>bg_mgdl</th>\n",
       "      <th>smoking</th>\n",
       "      <th>highrisk</th>\n",
       "    </tr>\n",
       "  </thead>\n",
       "  <tbody>\n",
       "    <tr>\n",
       "      <th>0</th>\n",
       "      <td>65</td>\n",
       "      <td>Female</td>\n",
       "      <td>140.5</td>\n",
       "      <td>156.0</td>\n",
       "      <td>nonsmoker</td>\n",
       "      <td>No</td>\n",
       "    </tr>\n",
       "    <tr>\n",
       "      <th>1</th>\n",
       "      <td>60</td>\n",
       "      <td>Male</td>\n",
       "      <td>156.0</td>\n",
       "      <td>113.0</td>\n",
       "      <td>smoker</td>\n",
       "      <td>Yes</td>\n",
       "    </tr>\n",
       "    <tr>\n",
       "      <th>2</th>\n",
       "      <td>87</td>\n",
       "      <td>Male</td>\n",
       "      <td>153.5</td>\n",
       "      <td>91.0</td>\n",
       "      <td>pastsmoker</td>\n",
       "      <td>Yes</td>\n",
       "    </tr>\n",
       "    <tr>\n",
       "      <th>3</th>\n",
       "      <td>82</td>\n",
       "      <td>Female</td>\n",
       "      <td>152.0</td>\n",
       "      <td>114.0</td>\n",
       "      <td>nonsmoker</td>\n",
       "      <td>Yes</td>\n",
       "    </tr>\n",
       "    <tr>\n",
       "      <th>4</th>\n",
       "      <td>55</td>\n",
       "      <td>Female</td>\n",
       "      <td>179.0</td>\n",
       "      <td>130.0</td>\n",
       "      <td>nonsmoker</td>\n",
       "      <td>Yes</td>\n",
       "    </tr>\n",
       "  </tbody>\n",
       "</table>\n",
       "</div>"
      ],
      "text/plain": [
       "   age     sex  sbp_avg  bg_mgdl     smoking highrisk\n",
       "0   65  Female    140.5    156.0   nonsmoker       No\n",
       "1   60    Male    156.0    113.0      smoker      Yes\n",
       "2   87    Male    153.5     91.0  pastsmoker      Yes\n",
       "3   82  Female    152.0    114.0   nonsmoker      Yes\n",
       "4   55  Female    179.0    130.0   nonsmoker      Yes"
      ]
     },
     "execution_count": 20,
     "metadata": {},
     "output_type": "execute_result"
    }
   ],
   "source": [
    "# define variable columns based on office-based CVD screening strategy\n",
    "\n",
    "Indonesian_df = Indonesian_df.loc[:,['age','sex','sbp_avg','bg_mgdl','smoking','highrisk']]\n",
    "Indonesian_df.head()"
   ]
  },
  {
   "cell_type": "code",
   "execution_count": 21,
   "metadata": {},
   "outputs": [
    {
     "data": {
      "text/html": [
       "<div>\n",
       "<style scoped>\n",
       "    .dataframe tbody tr th:only-of-type {\n",
       "        vertical-align: middle;\n",
       "    }\n",
       "\n",
       "    .dataframe tbody tr th {\n",
       "        vertical-align: top;\n",
       "    }\n",
       "\n",
       "    .dataframe thead th {\n",
       "        text-align: right;\n",
       "    }\n",
       "</style>\n",
       "<table border=\"1\" class=\"dataframe\">\n",
       "  <thead>\n",
       "    <tr style=\"text-align: right;\">\n",
       "      <th></th>\n",
       "      <th>Age</th>\n",
       "      <th>Gender</th>\n",
       "      <th>SysBP</th>\n",
       "      <th>Diabetes</th>\n",
       "      <th>Smoking</th>\n",
       "      <th>CVD risk</th>\n",
       "    </tr>\n",
       "  </thead>\n",
       "  <tbody>\n",
       "    <tr>\n",
       "      <th>0</th>\n",
       "      <td>65</td>\n",
       "      <td>Female</td>\n",
       "      <td>140.5</td>\n",
       "      <td>156.0</td>\n",
       "      <td>nonsmoker</td>\n",
       "      <td>No</td>\n",
       "    </tr>\n",
       "    <tr>\n",
       "      <th>1</th>\n",
       "      <td>60</td>\n",
       "      <td>Male</td>\n",
       "      <td>156.0</td>\n",
       "      <td>113.0</td>\n",
       "      <td>smoker</td>\n",
       "      <td>Yes</td>\n",
       "    </tr>\n",
       "    <tr>\n",
       "      <th>2</th>\n",
       "      <td>87</td>\n",
       "      <td>Male</td>\n",
       "      <td>153.5</td>\n",
       "      <td>91.0</td>\n",
       "      <td>pastsmoker</td>\n",
       "      <td>Yes</td>\n",
       "    </tr>\n",
       "    <tr>\n",
       "      <th>3</th>\n",
       "      <td>82</td>\n",
       "      <td>Female</td>\n",
       "      <td>152.0</td>\n",
       "      <td>114.0</td>\n",
       "      <td>nonsmoker</td>\n",
       "      <td>Yes</td>\n",
       "    </tr>\n",
       "    <tr>\n",
       "      <th>4</th>\n",
       "      <td>55</td>\n",
       "      <td>Female</td>\n",
       "      <td>179.0</td>\n",
       "      <td>130.0</td>\n",
       "      <td>nonsmoker</td>\n",
       "      <td>Yes</td>\n",
       "    </tr>\n",
       "    <tr>\n",
       "      <th>5</th>\n",
       "      <td>100</td>\n",
       "      <td>Male</td>\n",
       "      <td>191.0</td>\n",
       "      <td>168.0</td>\n",
       "      <td>pastsmoker</td>\n",
       "      <td>Yes</td>\n",
       "    </tr>\n",
       "    <tr>\n",
       "      <th>6</th>\n",
       "      <td>93</td>\n",
       "      <td>Female</td>\n",
       "      <td>143.5</td>\n",
       "      <td>102.0</td>\n",
       "      <td>nonsmoker</td>\n",
       "      <td>Yes</td>\n",
       "    </tr>\n",
       "    <tr>\n",
       "      <th>7</th>\n",
       "      <td>90</td>\n",
       "      <td>Female</td>\n",
       "      <td>161.0</td>\n",
       "      <td>141.0</td>\n",
       "      <td>nonsmoker</td>\n",
       "      <td>Yes</td>\n",
       "    </tr>\n",
       "    <tr>\n",
       "      <th>8</th>\n",
       "      <td>87</td>\n",
       "      <td>Male</td>\n",
       "      <td>149.0</td>\n",
       "      <td>77.0</td>\n",
       "      <td>pastsmoker</td>\n",
       "      <td>No</td>\n",
       "    </tr>\n",
       "    <tr>\n",
       "      <th>9</th>\n",
       "      <td>85</td>\n",
       "      <td>Male</td>\n",
       "      <td>122.0</td>\n",
       "      <td>99.0</td>\n",
       "      <td>pastsmoker</td>\n",
       "      <td>No</td>\n",
       "    </tr>\n",
       "  </tbody>\n",
       "</table>\n",
       "</div>"
      ],
      "text/plain": [
       "   Age  Gender  SysBP  Diabetes     Smoking CVD risk\n",
       "0   65  Female  140.5     156.0   nonsmoker       No\n",
       "1   60    Male  156.0     113.0      smoker      Yes\n",
       "2   87    Male  153.5      91.0  pastsmoker      Yes\n",
       "3   82  Female  152.0     114.0   nonsmoker      Yes\n",
       "4   55  Female  179.0     130.0   nonsmoker      Yes\n",
       "5  100    Male  191.0     168.0  pastsmoker      Yes\n",
       "6   93  Female  143.5     102.0   nonsmoker      Yes\n",
       "7   90  Female  161.0     141.0   nonsmoker      Yes\n",
       "8   87    Male  149.0      77.0  pastsmoker       No\n",
       "9   85    Male  122.0      99.0  pastsmoker       No"
      ]
     },
     "execution_count": 21,
     "metadata": {},
     "output_type": "execute_result"
    }
   ],
   "source": [
    "# Uniforming the columns names\n",
    "Indonesian_df.rename({'age': 'Age', \n",
    "                              'sex': 'Gender',\n",
    "                              'sbp_avg': 'SysBP',\n",
    "                              'bg_mgdl' : 'Diabetes',\n",
    "                              'smoking' : 'Smoking',\n",
    "                              'highrisk' : 'CVD risk'}, axis = 1, inplace = True)\n",
    "Indonesian_df.head(10)"
   ]
  },
  {
   "cell_type": "code",
   "execution_count": 22,
   "metadata": {},
   "outputs": [
    {
     "data": {
      "text/html": [
       "<div>\n",
       "<style scoped>\n",
       "    .dataframe tbody tr th:only-of-type {\n",
       "        vertical-align: middle;\n",
       "    }\n",
       "\n",
       "    .dataframe tbody tr th {\n",
       "        vertical-align: top;\n",
       "    }\n",
       "\n",
       "    .dataframe thead th {\n",
       "        text-align: right;\n",
       "    }\n",
       "</style>\n",
       "<table border=\"1\" class=\"dataframe\">\n",
       "  <thead>\n",
       "    <tr style=\"text-align: right;\">\n",
       "      <th></th>\n",
       "      <th>Age</th>\n",
       "      <th>Gender</th>\n",
       "      <th>SysBP</th>\n",
       "      <th>Diabetes</th>\n",
       "      <th>Smoking</th>\n",
       "      <th>CVD risk</th>\n",
       "    </tr>\n",
       "  </thead>\n",
       "  <tbody>\n",
       "    <tr>\n",
       "      <th>0</th>\n",
       "      <td>65</td>\n",
       "      <td>1</td>\n",
       "      <td>140.5</td>\n",
       "      <td>1</td>\n",
       "      <td>0</td>\n",
       "      <td>0</td>\n",
       "    </tr>\n",
       "    <tr>\n",
       "      <th>1</th>\n",
       "      <td>60</td>\n",
       "      <td>2</td>\n",
       "      <td>156.0</td>\n",
       "      <td>0</td>\n",
       "      <td>1</td>\n",
       "      <td>1</td>\n",
       "    </tr>\n",
       "    <tr>\n",
       "      <th>2</th>\n",
       "      <td>87</td>\n",
       "      <td>2</td>\n",
       "      <td>153.5</td>\n",
       "      <td>0</td>\n",
       "      <td>0</td>\n",
       "      <td>1</td>\n",
       "    </tr>\n",
       "    <tr>\n",
       "      <th>3</th>\n",
       "      <td>82</td>\n",
       "      <td>1</td>\n",
       "      <td>152.0</td>\n",
       "      <td>0</td>\n",
       "      <td>0</td>\n",
       "      <td>1</td>\n",
       "    </tr>\n",
       "    <tr>\n",
       "      <th>4</th>\n",
       "      <td>55</td>\n",
       "      <td>1</td>\n",
       "      <td>179.0</td>\n",
       "      <td>1</td>\n",
       "      <td>0</td>\n",
       "      <td>1</td>\n",
       "    </tr>\n",
       "    <tr>\n",
       "      <th>5</th>\n",
       "      <td>100</td>\n",
       "      <td>2</td>\n",
       "      <td>191.0</td>\n",
       "      <td>1</td>\n",
       "      <td>0</td>\n",
       "      <td>1</td>\n",
       "    </tr>\n",
       "    <tr>\n",
       "      <th>6</th>\n",
       "      <td>93</td>\n",
       "      <td>1</td>\n",
       "      <td>143.5</td>\n",
       "      <td>0</td>\n",
       "      <td>0</td>\n",
       "      <td>1</td>\n",
       "    </tr>\n",
       "    <tr>\n",
       "      <th>7</th>\n",
       "      <td>90</td>\n",
       "      <td>1</td>\n",
       "      <td>161.0</td>\n",
       "      <td>1</td>\n",
       "      <td>0</td>\n",
       "      <td>1</td>\n",
       "    </tr>\n",
       "    <tr>\n",
       "      <th>8</th>\n",
       "      <td>87</td>\n",
       "      <td>2</td>\n",
       "      <td>149.0</td>\n",
       "      <td>0</td>\n",
       "      <td>0</td>\n",
       "      <td>0</td>\n",
       "    </tr>\n",
       "    <tr>\n",
       "      <th>9</th>\n",
       "      <td>85</td>\n",
       "      <td>2</td>\n",
       "      <td>122.0</td>\n",
       "      <td>0</td>\n",
       "      <td>0</td>\n",
       "      <td>0</td>\n",
       "    </tr>\n",
       "  </tbody>\n",
       "</table>\n",
       "</div>"
      ],
      "text/plain": [
       "   Age  Gender  SysBP Diabetes  Smoking  CVD risk\n",
       "0   65       1  140.5        1        0         0\n",
       "1   60       2  156.0        0        1         1\n",
       "2   87       2  153.5        0        0         1\n",
       "3   82       1  152.0        0        0         1\n",
       "4   55       1  179.0        1        0         1\n",
       "5  100       2  191.0        1        0         1\n",
       "6   93       1  143.5        0        0         1\n",
       "7   90       1  161.0        1        0         1\n",
       "8   87       2  149.0        0        0         0\n",
       "9   85       2  122.0        0        0         0"
      ]
     },
     "execution_count": 22,
     "metadata": {},
     "output_type": "execute_result"
    }
   ],
   "source": [
    "# Uniforming the categories of the categorial variables \n",
    "\n",
    "Indonesian_df['Gender'].replace({'Female': 1, 'Male': 2  }, inplace = True)\n",
    "Indonesian_df['Smoking'].replace({'smoker': 1, 'nonsmoker':0, 'pastsmoker': 0  }, inplace = True)\n",
    "Indonesian_df['CVD risk'].replace({'Yes': 1, 'No':0 }, inplace = True)\n",
    "Indonesian_df['Diabetes'] = Indonesian_df['Diabetes'].apply(lambda x: '1' if x >= 126  else '0')\n",
    "\n",
    "Indonesian_df.head(10)"
   ]
  },
  {
   "cell_type": "code",
   "execution_count": 23,
   "metadata": {},
   "outputs": [
    {
     "data": {
      "text/plain": [
       "Age          0\n",
       "Gender       0\n",
       "SysBP       83\n",
       "Diabetes     0\n",
       "Smoking      0\n",
       "CVD risk     0\n",
       "dtype: int64"
      ]
     },
     "execution_count": 23,
     "metadata": {},
     "output_type": "execute_result"
    }
   ],
   "source": [
    "# Checking Missing values in the dataset\n",
    "\n",
    "Indonesian_df.isna().sum()\n"
   ]
  },
  {
   "cell_type": "code",
   "execution_count": 24,
   "metadata": {},
   "outputs": [
    {
     "data": {
      "text/html": [
       "<div>\n",
       "<style scoped>\n",
       "    .dataframe tbody tr th:only-of-type {\n",
       "        vertical-align: middle;\n",
       "    }\n",
       "\n",
       "    .dataframe tbody tr th {\n",
       "        vertical-align: top;\n",
       "    }\n",
       "\n",
       "    .dataframe thead th {\n",
       "        text-align: right;\n",
       "    }\n",
       "</style>\n",
       "<table border=\"1\" class=\"dataframe\">\n",
       "  <thead>\n",
       "    <tr style=\"text-align: right;\">\n",
       "      <th></th>\n",
       "      <th>Age</th>\n",
       "      <th>Gender</th>\n",
       "      <th>SysBP</th>\n",
       "      <th>Smoking</th>\n",
       "      <th>CVD risk</th>\n",
       "    </tr>\n",
       "  </thead>\n",
       "  <tbody>\n",
       "    <tr>\n",
       "      <th>count</th>\n",
       "      <td>22093.000000</td>\n",
       "      <td>22093.000000</td>\n",
       "      <td>22010.000000</td>\n",
       "      <td>22093.000000</td>\n",
       "      <td>22093.000000</td>\n",
       "    </tr>\n",
       "    <tr>\n",
       "      <th>mean</th>\n",
       "      <td>54.916535</td>\n",
       "      <td>1.433667</td>\n",
       "      <td>140.390277</td>\n",
       "      <td>0.266148</td>\n",
       "      <td>0.292083</td>\n",
       "    </tr>\n",
       "    <tr>\n",
       "      <th>std</th>\n",
       "      <td>10.787480</td>\n",
       "      <td>0.495592</td>\n",
       "      <td>23.770916</td>\n",
       "      <td>0.441952</td>\n",
       "      <td>0.454731</td>\n",
       "    </tr>\n",
       "    <tr>\n",
       "      <th>min</th>\n",
       "      <td>40.000000</td>\n",
       "      <td>1.000000</td>\n",
       "      <td>75.500000</td>\n",
       "      <td>0.000000</td>\n",
       "      <td>0.000000</td>\n",
       "    </tr>\n",
       "    <tr>\n",
       "      <th>25%</th>\n",
       "      <td>46.000000</td>\n",
       "      <td>1.000000</td>\n",
       "      <td>123.000000</td>\n",
       "      <td>0.000000</td>\n",
       "      <td>0.000000</td>\n",
       "    </tr>\n",
       "    <tr>\n",
       "      <th>50%</th>\n",
       "      <td>53.000000</td>\n",
       "      <td>1.000000</td>\n",
       "      <td>136.000000</td>\n",
       "      <td>0.000000</td>\n",
       "      <td>0.000000</td>\n",
       "    </tr>\n",
       "    <tr>\n",
       "      <th>75%</th>\n",
       "      <td>61.000000</td>\n",
       "      <td>2.000000</td>\n",
       "      <td>154.000000</td>\n",
       "      <td>1.000000</td>\n",
       "      <td>1.000000</td>\n",
       "    </tr>\n",
       "    <tr>\n",
       "      <th>max</th>\n",
       "      <td>116.000000</td>\n",
       "      <td>2.000000</td>\n",
       "      <td>243.000000</td>\n",
       "      <td>1.000000</td>\n",
       "      <td>1.000000</td>\n",
       "    </tr>\n",
       "  </tbody>\n",
       "</table>\n",
       "</div>"
      ],
      "text/plain": [
       "                Age        Gender         SysBP       Smoking      CVD risk\n",
       "count  22093.000000  22093.000000  22010.000000  22093.000000  22093.000000\n",
       "mean      54.916535      1.433667    140.390277      0.266148      0.292083\n",
       "std       10.787480      0.495592     23.770916      0.441952      0.454731\n",
       "min       40.000000      1.000000     75.500000      0.000000      0.000000\n",
       "25%       46.000000      1.000000    123.000000      0.000000      0.000000\n",
       "50%       53.000000      1.000000    136.000000      0.000000      0.000000\n",
       "75%       61.000000      2.000000    154.000000      1.000000      1.000000\n",
       "max      116.000000      2.000000    243.000000      1.000000      1.000000"
      ]
     },
     "execution_count": 24,
     "metadata": {},
     "output_type": "execute_result"
    }
   ],
   "source": [
    "# Checking the brief statistical properities of the numerical variables in the dataset\n",
    "Indonesian_df.describe()"
   ]
  },
  {
   "cell_type": "code",
   "execution_count": 25,
   "metadata": {},
   "outputs": [
    {
     "data": {
      "text/plain": [
       "Age         0\n",
       "Gender      0\n",
       "SysBP       0\n",
       "Diabetes    0\n",
       "Smoking     0\n",
       "CVD risk    0\n",
       "dtype: int64"
      ]
     },
     "execution_count": 25,
     "metadata": {},
     "output_type": "execute_result"
    }
   ],
   "source": [
    "# Filling the missing values of the systolic Blood pressure with the median the variable column\n",
    "Indonesian_df['SysBP'].fillna((Indonesian_df['SysBP'].median()), inplace=True) # meadian is near to the mean\n",
    "\n",
    "Indonesian_df.isna().sum()"
   ]
  },
  {
   "cell_type": "code",
   "execution_count": 26,
   "metadata": {},
   "outputs": [
    {
     "name": "stdout",
     "output_type": "stream",
     "text": [
      "<class 'pandas.core.frame.DataFrame'>\n",
      "RangeIndex: 22093 entries, 0 to 22092\n",
      "Data columns (total 6 columns):\n",
      " #   Column    Non-Null Count  Dtype  \n",
      "---  ------    --------------  -----  \n",
      " 0   Age       22093 non-null  float64\n",
      " 1   Gender    22093 non-null  int64  \n",
      " 2   SysBP     22093 non-null  float64\n",
      " 3   Diabetes  22093 non-null  int64  \n",
      " 4   Smoking   22093 non-null  int64  \n",
      " 5   CVD risk  22093 non-null  int64  \n",
      "dtypes: float64(2), int64(4)\n",
      "memory usage: 1.0 MB\n"
     ]
    }
   ],
   "source": [
    "# Defining the coorect types of the variables\n",
    "\n",
    "Indonesian_df['Age'] = Indonesian_df['Age'].astype(\"float\")\n",
    "\n",
    "Indonesian_df['Diabetes'] = Indonesian_df['Diabetes'].astype(\"int64\")\n",
    "\n",
    "\n",
    "Indonesian_df.info()"
   ]
  },
  {
   "cell_type": "code",
   "execution_count": 27,
   "metadata": {},
   "outputs": [
    {
     "data": {
      "text/html": [
       "<div>\n",
       "<style scoped>\n",
       "    .dataframe tbody tr th:only-of-type {\n",
       "        vertical-align: middle;\n",
       "    }\n",
       "\n",
       "    .dataframe tbody tr th {\n",
       "        vertical-align: top;\n",
       "    }\n",
       "\n",
       "    .dataframe thead th {\n",
       "        text-align: right;\n",
       "    }\n",
       "</style>\n",
       "<table border=\"1\" class=\"dataframe\">\n",
       "  <thead>\n",
       "    <tr style=\"text-align: right;\">\n",
       "      <th></th>\n",
       "      <th>Age</th>\n",
       "      <th>SysBP</th>\n",
       "    </tr>\n",
       "  </thead>\n",
       "  <tbody>\n",
       "    <tr>\n",
       "      <th>count</th>\n",
       "      <td>22093.000000</td>\n",
       "      <td>22093.000000</td>\n",
       "    </tr>\n",
       "    <tr>\n",
       "      <th>mean</th>\n",
       "      <td>54.916535</td>\n",
       "      <td>140.373784</td>\n",
       "    </tr>\n",
       "    <tr>\n",
       "      <th>std</th>\n",
       "      <td>10.787480</td>\n",
       "      <td>23.727741</td>\n",
       "    </tr>\n",
       "    <tr>\n",
       "      <th>min</th>\n",
       "      <td>40.000000</td>\n",
       "      <td>75.500000</td>\n",
       "    </tr>\n",
       "    <tr>\n",
       "      <th>25%</th>\n",
       "      <td>46.000000</td>\n",
       "      <td>123.000000</td>\n",
       "    </tr>\n",
       "    <tr>\n",
       "      <th>50%</th>\n",
       "      <td>53.000000</td>\n",
       "      <td>136.000000</td>\n",
       "    </tr>\n",
       "    <tr>\n",
       "      <th>75%</th>\n",
       "      <td>61.000000</td>\n",
       "      <td>153.500000</td>\n",
       "    </tr>\n",
       "    <tr>\n",
       "      <th>max</th>\n",
       "      <td>116.000000</td>\n",
       "      <td>243.000000</td>\n",
       "    </tr>\n",
       "  </tbody>\n",
       "</table>\n",
       "</div>"
      ],
      "text/plain": [
       "                Age         SysBP\n",
       "count  22093.000000  22093.000000\n",
       "mean      54.916535    140.373784\n",
       "std       10.787480     23.727741\n",
       "min       40.000000     75.500000\n",
       "25%       46.000000    123.000000\n",
       "50%       53.000000    136.000000\n",
       "75%       61.000000    153.500000\n",
       "max      116.000000    243.000000"
      ]
     },
     "execution_count": 27,
     "metadata": {},
     "output_type": "execute_result"
    }
   ],
   "source": [
    "# Checking the brief statistical properities of the numerical variables in the dataset\n",
    "Indonesian_df[numeric_features].describe()"
   ]
  },
  {
   "cell_type": "markdown",
   "metadata": {},
   "source": [
    "#### Observations\n",
    "\n",
    "- Age has normal range between 40 to 116 years.\n",
    "- Also, Systolic blood pressure \"SysBP\" has normal range between 75.5 to 243 mmHg"
   ]
  },
  {
   "cell_type": "code",
   "execution_count": 28,
   "metadata": {},
   "outputs": [
    {
     "data": {
      "image/png": "[encoded data removed]",
      "text/plain": [
       "<Figure size 1000x500 with 1 Axes>"
      ]
     },
     "metadata": {},
     "output_type": "display_data"
    }
   ],
   "source": [
    "# Plotting the numerical variables in  the dataset\n",
    "\n",
    "plt.figure(figsize=(10,5), facecolor='w')\n",
    "sns.boxplot(data=Indonesian_df[numeric_features])\n",
    "plt.show()"
   ]
  },
  {
   "cell_type": "code",
   "execution_count": 29,
   "metadata": {},
   "outputs": [
    {
     "data": {
      "image/png": "[encoded data removed]",
      "text/plain": [
       "<Figure size 1000x500 with 1 Axes>"
      ]
     },
     "metadata": {},
     "output_type": "display_data"
    },
    {
     "data": {
      "image/png": "[encoded data removed]",
      "text/plain": [
       "<Figure size 1000x500 with 1 Axes>"
      ]
     },
     "metadata": {},
     "output_type": "display_data"
    }
   ],
   "source": [
    "for feature in numeric_features:\n",
    "    plt.figure(figsize=(10, 5))\n",
    "    sns.histplot(Indonesian_df[feature])\n",
    "    plt.title(f'{feature} Distribution', fontsize=14)\n",
    "    plt.show()"
   ]
  },
  {
   "cell_type": "markdown",
   "metadata": {},
   "source": [
    "#### Observations\n",
    "\n",
    "- Age distribution is righted sweked distribution.\n",
    "- Systolic blood pressure \"SysBP\" distribution is almost normal distribution."
   ]
  },
  {
   "cell_type": "code",
   "execution_count": 30,
   "metadata": {},
   "outputs": [
    {
     "name": "stdout",
     "output_type": "stream",
     "text": [
      "Gender :\n",
      "1    12512\n",
      "2     9581\n",
      "Name: Gender, dtype: int64\n",
      "-----------------\n",
      "Diabetes :\n",
      "0    15216\n",
      "1     6877\n",
      "Name: Diabetes, dtype: int64\n",
      "-----------------\n",
      "Smoking :\n",
      "0    16213\n",
      "1     5880\n",
      "Name: Smoking, dtype: int64\n",
      "-----------------\n",
      "CVD risk :\n",
      "0    15640\n",
      "1     6453\n",
      "Name: CVD risk, dtype: int64\n",
      "-----------------\n"
     ]
    }
   ],
   "source": [
    "# Checking the brief statistical properities of the categorical variables in the dataset\n",
    "\n",
    "for feature in categorical_features:\n",
    "    print(feature,':')\n",
    "    print(Indonesian_df[feature].value_counts())\n",
    "    print(\"-----------------\")"
   ]
  },
  {
   "cell_type": "code",
   "execution_count": 31,
   "metadata": {},
   "outputs": [
    {
     "data": {
      "image/png": "[encoded data removed]",
      "text/plain": [
       "<Figure size 1400x1400 with 4 Axes>"
      ]
     },
     "metadata": {},
     "output_type": "display_data"
    }
   ],
   "source": [
    "# Plotting the categorical variables in  the dataset\n",
    "\n",
    "num_plots = len(categorical_features)\n",
    "total_cols = 2\n",
    "total_rows = num_plots//total_cols \n",
    "fig, axs = plt.subplots(nrows=total_rows, ncols=total_cols,\n",
    "                        figsize=(7*total_cols, 7*total_rows), facecolor='w', constrained_layout=True)\n",
    "for i, var in enumerate(categorical_features):\n",
    "    row = i//total_cols\n",
    "    pos = i % total_cols\n",
    "    plot = sns.countplot(x=var, data=Indonesian_df, ax=axs[row][pos])"
   ]
  },
  {
   "cell_type": "markdown",
   "metadata": {},
   "source": [
    "* There are no signficant imbalance between categorical features in the dataset"
   ]
  },
  {
   "cell_type": "markdown",
   "metadata": {},
   "source": [
    "### Indian dataset "
   ]
  },
  {
   "cell_type": "code",
   "execution_count": 32,
   "metadata": {},
   "outputs": [
    {
     "name": "stdout",
     "output_type": "stream",
     "text": [
      "<class 'pandas.core.frame.DataFrame'>\n",
      "RangeIndex: 562641 entries, 0 to 562640\n",
      "Data columns (total 7 columns):\n",
      " #   Column      Non-Null Count   Dtype  \n",
      "---  ------      --------------   -----  \n",
      " 0   Unnamed: 0  562641 non-null  int64  \n",
      " 1   glucose     562641 non-null  float64\n",
      " 2   age         562641 non-null  float64\n",
      " 3   bpsyst_avg  562641 non-null  float64\n",
      " 4   female      562641 non-null  float64\n",
      " 5   currsmoke   562641 non-null  float64\n",
      " 6   ten_y_cvd   562641 non-null  float64\n",
      "dtypes: float64(6), int64(1)\n",
      "memory usage: 30.0 MB\n"
     ]
    }
   ],
   "source": [
    "# Reading and converting the data into a pandas dataframe\n",
    "Indian_df = pd.read_csv(\n",
    "    \"~/Desktop/CVD risk prediction Notebook/Datasets/Office based Datasets/Indian dataset/cleaned_indian_dataset.csv\")\n",
    "\n",
    "# Informtion about the raw dataset\n",
    "Indian_df.info()"
   ]
  },
  {
   "cell_type": "markdown",
   "metadata": {},
   "source": [
    "#### Background\n",
    "This is the data and code for the paper \" Geographic and sociodemographic variation of cardiovascular disease risk in India: A crosssectional study of 797,540 adults \"\n",
    "\n",
    "##### Citaion:\n",
    "1. `@data{DVN/LPTPO6_2018,\n",
    "author = {Geldsetzer, Pascal},\n",
    "publisher = {Harvard Dataverse},\n",
    "title = {{Replication data for ``Geographic and socio-demographic variation of cardiovascular disease risk in India: a cross-sectional study of 800,000 adults''}},\n",
    "UNF = {UNF:6:7UnU4jaSS1NrCbfeDJnvVg==},\n",
    "year = {2018},\n",
    "version = {V2},\n",
    "doi = {10.7910/DVN/LPTPO6},\n",
    "url = {https://doi.org/10.7910/DVN/LPTPO6}\n",
    "}`\n",
    "2. `@data{DVN/NLU7HI_2020,\n",
    "author = {Bischops, Anne},\n",
    "publisher = {Harvard Dataverse},\n",
    "title = {{Replication Data for:Clustering of cardiovascular disease risk factors at the state, district, community, and household level in India}},\n",
    "UNF = {UNF:6:k7H89hNeSIFJqTD6L5ME6Q==},\n",
    "year = {2020},\n",
    "version = {DRAFT VERSION},\n",
    "doi = {10.7910/DVN/NLU7HI},\n",
    "url = {https://doi.org/10.7910/DVN/NLU7HI}\n",
    "}`\n",
    "3. `Geldsetzer P, Manne-Goehler J,\n",
    "Theilmann M, Davies JI, Awasthi A, Danaei G, et al.\n",
    "(2018) Geographic and sociodemographic\n",
    "variation of cardiovascular disease risk in India: A\n",
    "cross-sectional study of 797,540 adults. PLoS Med\n",
    "15(6): e1002581. https://doi.org/10.1371/journal.\n",
    "pmed.1002581`\n",
    "4. `Bischops, A.C., De Neve, JW., Awasthi, A. et al. A cross-sectional study of cardiovascular disease risk clustering at different socio-geographic levels in India. Nat Commun 11, 5891 (2020). https://doi.org/10.1038/s41467-020-19647-3`\n",
    "5. `Jung, L., De Neve, J. W., Chen, S., Manne-Goehler, J., Jaacks, L. M., Corsi, D. J., ... & Geldsetzer, P. (2019). The interaction between district-level development and individual-level socioeconomic gradients of cardiovascular disease risk factors in India: a cross-sectional study of 2.4 million adults. Social Science & Medicine, 239, 112514.`"
   ]
  },
  {
   "cell_type": "code",
   "execution_count": 33,
   "metadata": {},
   "outputs": [
    {
     "name": "stdout",
     "output_type": "stream",
     "text": [
      "Missing values:  0 \n",
      "\n",
      "Dataset contains no Duplicate Values\n"
     ]
    }
   ],
   "source": [
    "# Checking Missing values in the dataset\n",
    "Indian_df.duplicated().sum()\n",
    "num_Missing_values_India = Indian_df.isna().sum().sum()\n",
    "print('Missing values: ', num_Missing_values_India, '\\n')\n",
    "\n",
    "# Checking dupicated values in the dataset\n",
    "duplicates_India = Indian_df.duplicated().sum()\n",
    "if duplicates_India:\n",
    "    print('Duplicates Rows in Dataset are : {}'.format(duplicates_India))\n",
    "else:\n",
    "    print('Dataset contains no Duplicate Values')"
   ]
  },
  {
   "cell_type": "markdown",
   "metadata": {},
   "source": [
    "####  Data Preprocessing and Cleaning \n",
    "For our Machine learning pipeline, the office-based CVD risk screening variables will be defined with the following uniforms description and types: \n",
    " \n",
    "| Column | Description |\n",
    "| ------ | ----------- |\n",
    "| Age | **(float) in years** |\n",
    "| Gender |**(categorical code) 1: Female, 2: Male**|\n",
    "| SysBP |**(float) Systolic blood pressure**  |\n",
    "| Diabetes |**(categorical code) 1: Diabetic, 0: Non-Diabetic** |\n",
    "| Smoking |**(categorical code) 1: Smoker, 0: Non-Smoker** |\n",
    "| CVD risk |**Target label (binary) 1: Presence of CVD (High risk),  0: absence of CVD (Low risk)**|"
   ]
  },
  {
   "cell_type": "code",
   "execution_count": 34,
   "metadata": {},
   "outputs": [
    {
     "data": {
      "text/html": [
       "<div>\n",
       "<style scoped>\n",
       "    .dataframe tbody tr th:only-of-type {\n",
       "        vertical-align: middle;\n",
       "    }\n",
       "\n",
       "    .dataframe tbody tr th {\n",
       "        vertical-align: top;\n",
       "    }\n",
       "\n",
       "    .dataframe thead th {\n",
       "        text-align: right;\n",
       "    }\n",
       "</style>\n",
       "<table border=\"1\" class=\"dataframe\">\n",
       "  <thead>\n",
       "    <tr style=\"text-align: right;\">\n",
       "      <th></th>\n",
       "      <th>age</th>\n",
       "      <th>female</th>\n",
       "      <th>bpsyst_avg</th>\n",
       "      <th>glucose</th>\n",
       "      <th>currsmoke</th>\n",
       "      <th>ten_y_cvd</th>\n",
       "    </tr>\n",
       "  </thead>\n",
       "  <tbody>\n",
       "    <tr>\n",
       "      <th>0</th>\n",
       "      <td>44.0</td>\n",
       "      <td>2.0</td>\n",
       "      <td>144.5</td>\n",
       "      <td>139.0</td>\n",
       "      <td>1.0</td>\n",
       "      <td>0.084521</td>\n",
       "    </tr>\n",
       "    <tr>\n",
       "      <th>1</th>\n",
       "      <td>42.0</td>\n",
       "      <td>1.0</td>\n",
       "      <td>120.0</td>\n",
       "      <td>90.0</td>\n",
       "      <td>2.0</td>\n",
       "      <td>0.107591</td>\n",
       "    </tr>\n",
       "    <tr>\n",
       "      <th>2</th>\n",
       "      <td>70.0</td>\n",
       "      <td>2.0</td>\n",
       "      <td>143.5</td>\n",
       "      <td>107.0</td>\n",
       "      <td>1.0</td>\n",
       "      <td>0.228246</td>\n",
       "    </tr>\n",
       "    <tr>\n",
       "      <th>3</th>\n",
       "      <td>66.0</td>\n",
       "      <td>1.0</td>\n",
       "      <td>132.5</td>\n",
       "      <td>106.0</td>\n",
       "      <td>2.0</td>\n",
       "      <td>0.211493</td>\n",
       "    </tr>\n",
       "    <tr>\n",
       "      <th>4</th>\n",
       "      <td>70.0</td>\n",
       "      <td>1.0</td>\n",
       "      <td>155.5</td>\n",
       "      <td>119.0</td>\n",
       "      <td>1.0</td>\n",
       "      <td>0.231731</td>\n",
       "    </tr>\n",
       "  </tbody>\n",
       "</table>\n",
       "</div>"
      ],
      "text/plain": [
       "    age  female  bpsyst_avg  glucose  currsmoke  ten_y_cvd\n",
       "0  44.0     2.0       144.5    139.0        1.0   0.084521\n",
       "1  42.0     1.0       120.0     90.0        2.0   0.107591\n",
       "2  70.0     2.0       143.5    107.0        1.0   0.228246\n",
       "3  66.0     1.0       132.5    106.0        2.0   0.211493\n",
       "4  70.0     1.0       155.5    119.0        1.0   0.231731"
      ]
     },
     "execution_count": 34,
     "metadata": {},
     "output_type": "execute_result"
    }
   ],
   "source": [
    "# define variable columns based on office-based CVD screening strategy\n",
    "\n",
    "Indian_df = Indian_df.loc[:,['age','female','bpsyst_avg','glucose','currsmoke','ten_y_cvd']]\n",
    "Indian_df.head()"
   ]
  },
  {
   "cell_type": "code",
   "execution_count": 35,
   "metadata": {},
   "outputs": [
    {
     "data": {
      "text/html": [
       "<div>\n",
       "<style scoped>\n",
       "    .dataframe tbody tr th:only-of-type {\n",
       "        vertical-align: middle;\n",
       "    }\n",
       "\n",
       "    .dataframe tbody tr th {\n",
       "        vertical-align: top;\n",
       "    }\n",
       "\n",
       "    .dataframe thead th {\n",
       "        text-align: right;\n",
       "    }\n",
       "</style>\n",
       "<table border=\"1\" class=\"dataframe\">\n",
       "  <thead>\n",
       "    <tr style=\"text-align: right;\">\n",
       "      <th></th>\n",
       "      <th>Age</th>\n",
       "      <th>Gender</th>\n",
       "      <th>SysBP</th>\n",
       "      <th>Diabetes</th>\n",
       "      <th>Smoking</th>\n",
       "      <th>CVD risk</th>\n",
       "    </tr>\n",
       "  </thead>\n",
       "  <tbody>\n",
       "    <tr>\n",
       "      <th>0</th>\n",
       "      <td>44.0</td>\n",
       "      <td>2.0</td>\n",
       "      <td>144.5</td>\n",
       "      <td>139.0</td>\n",
       "      <td>1.0</td>\n",
       "      <td>0.084521</td>\n",
       "    </tr>\n",
       "    <tr>\n",
       "      <th>1</th>\n",
       "      <td>42.0</td>\n",
       "      <td>1.0</td>\n",
       "      <td>120.0</td>\n",
       "      <td>90.0</td>\n",
       "      <td>2.0</td>\n",
       "      <td>0.107591</td>\n",
       "    </tr>\n",
       "    <tr>\n",
       "      <th>2</th>\n",
       "      <td>70.0</td>\n",
       "      <td>2.0</td>\n",
       "      <td>143.5</td>\n",
       "      <td>107.0</td>\n",
       "      <td>1.0</td>\n",
       "      <td>0.228246</td>\n",
       "    </tr>\n",
       "    <tr>\n",
       "      <th>3</th>\n",
       "      <td>66.0</td>\n",
       "      <td>1.0</td>\n",
       "      <td>132.5</td>\n",
       "      <td>106.0</td>\n",
       "      <td>2.0</td>\n",
       "      <td>0.211493</td>\n",
       "    </tr>\n",
       "    <tr>\n",
       "      <th>4</th>\n",
       "      <td>70.0</td>\n",
       "      <td>1.0</td>\n",
       "      <td>155.5</td>\n",
       "      <td>119.0</td>\n",
       "      <td>1.0</td>\n",
       "      <td>0.231731</td>\n",
       "    </tr>\n",
       "    <tr>\n",
       "      <th>5</th>\n",
       "      <td>45.0</td>\n",
       "      <td>1.0</td>\n",
       "      <td>121.5</td>\n",
       "      <td>134.0</td>\n",
       "      <td>1.0</td>\n",
       "      <td>0.059483</td>\n",
       "    </tr>\n",
       "    <tr>\n",
       "      <th>6</th>\n",
       "      <td>51.0</td>\n",
       "      <td>1.0</td>\n",
       "      <td>131.0</td>\n",
       "      <td>89.0</td>\n",
       "      <td>2.0</td>\n",
       "      <td>0.187607</td>\n",
       "    </tr>\n",
       "    <tr>\n",
       "      <th>7</th>\n",
       "      <td>55.0</td>\n",
       "      <td>1.0</td>\n",
       "      <td>129.5</td>\n",
       "      <td>96.0</td>\n",
       "      <td>1.0</td>\n",
       "      <td>0.095542</td>\n",
       "    </tr>\n",
       "    <tr>\n",
       "      <th>8</th>\n",
       "      <td>56.0</td>\n",
       "      <td>1.0</td>\n",
       "      <td>129.5</td>\n",
       "      <td>145.0</td>\n",
       "      <td>1.0</td>\n",
       "      <td>0.119855</td>\n",
       "    </tr>\n",
       "    <tr>\n",
       "      <th>9</th>\n",
       "      <td>50.0</td>\n",
       "      <td>2.0</td>\n",
       "      <td>146.5</td>\n",
       "      <td>104.0</td>\n",
       "      <td>1.0</td>\n",
       "      <td>0.095503</td>\n",
       "    </tr>\n",
       "  </tbody>\n",
       "</table>\n",
       "</div>"
      ],
      "text/plain": [
       "    Age  Gender  SysBP  Diabetes  Smoking  CVD risk\n",
       "0  44.0     2.0  144.5     139.0      1.0  0.084521\n",
       "1  42.0     1.0  120.0      90.0      2.0  0.107591\n",
       "2  70.0     2.0  143.5     107.0      1.0  0.228246\n",
       "3  66.0     1.0  132.5     106.0      2.0  0.211493\n",
       "4  70.0     1.0  155.5     119.0      1.0  0.231731\n",
       "5  45.0     1.0  121.5     134.0      1.0  0.059483\n",
       "6  51.0     1.0  131.0      89.0      2.0  0.187607\n",
       "7  55.0     1.0  129.5      96.0      1.0  0.095542\n",
       "8  56.0     1.0  129.5     145.0      1.0  0.119855\n",
       "9  50.0     2.0  146.5     104.0      1.0  0.095503"
      ]
     },
     "execution_count": 35,
     "metadata": {},
     "output_type": "execute_result"
    }
   ],
   "source": [
    "# Uniforming the columns names\n",
    "Indian_df.rename({'age': 'Age', \n",
    "                              'female': 'Gender',\n",
    "                              'bpsyst_avg': 'SysBP',\n",
    "                              'glucose' : 'Diabetes',\n",
    "                              'currsmoke' : 'Smoking',\n",
    "                              'ten_y_cvd' : 'CVD risk'}, axis = 1, inplace = True)\n",
    "Indian_df.head(10)"
   ]
  },
  {
   "cell_type": "code",
   "execution_count": 36,
   "metadata": {},
   "outputs": [
    {
     "data": {
      "text/html": [
       "<div>\n",
       "<style scoped>\n",
       "    .dataframe tbody tr th:only-of-type {\n",
       "        vertical-align: middle;\n",
       "    }\n",
       "\n",
       "    .dataframe tbody tr th {\n",
       "        vertical-align: top;\n",
       "    }\n",
       "\n",
       "    .dataframe thead th {\n",
       "        text-align: right;\n",
       "    }\n",
       "</style>\n",
       "<table border=\"1\" class=\"dataframe\">\n",
       "  <thead>\n",
       "    <tr style=\"text-align: right;\">\n",
       "      <th></th>\n",
       "      <th>Age</th>\n",
       "      <th>Gender</th>\n",
       "      <th>SysBP</th>\n",
       "      <th>Diabetes</th>\n",
       "      <th>Smoking</th>\n",
       "      <th>CVD risk</th>\n",
       "    </tr>\n",
       "  </thead>\n",
       "  <tbody>\n",
       "    <tr>\n",
       "      <th>0</th>\n",
       "      <td>44.0</td>\n",
       "      <td>2</td>\n",
       "      <td>144.5</td>\n",
       "      <td>1</td>\n",
       "      <td>1</td>\n",
       "      <td>0</td>\n",
       "    </tr>\n",
       "    <tr>\n",
       "      <th>1</th>\n",
       "      <td>42.0</td>\n",
       "      <td>1</td>\n",
       "      <td>120.0</td>\n",
       "      <td>0</td>\n",
       "      <td>0</td>\n",
       "      <td>0</td>\n",
       "    </tr>\n",
       "    <tr>\n",
       "      <th>2</th>\n",
       "      <td>70.0</td>\n",
       "      <td>2</td>\n",
       "      <td>143.5</td>\n",
       "      <td>0</td>\n",
       "      <td>1</td>\n",
       "      <td>1</td>\n",
       "    </tr>\n",
       "    <tr>\n",
       "      <th>3</th>\n",
       "      <td>66.0</td>\n",
       "      <td>1</td>\n",
       "      <td>132.5</td>\n",
       "      <td>0</td>\n",
       "      <td>0</td>\n",
       "      <td>1</td>\n",
       "    </tr>\n",
       "    <tr>\n",
       "      <th>4</th>\n",
       "      <td>70.0</td>\n",
       "      <td>1</td>\n",
       "      <td>155.5</td>\n",
       "      <td>0</td>\n",
       "      <td>1</td>\n",
       "      <td>1</td>\n",
       "    </tr>\n",
       "    <tr>\n",
       "      <th>5</th>\n",
       "      <td>45.0</td>\n",
       "      <td>1</td>\n",
       "      <td>121.5</td>\n",
       "      <td>1</td>\n",
       "      <td>1</td>\n",
       "      <td>0</td>\n",
       "    </tr>\n",
       "    <tr>\n",
       "      <th>6</th>\n",
       "      <td>51.0</td>\n",
       "      <td>1</td>\n",
       "      <td>131.0</td>\n",
       "      <td>0</td>\n",
       "      <td>0</td>\n",
       "      <td>0</td>\n",
       "    </tr>\n",
       "    <tr>\n",
       "      <th>7</th>\n",
       "      <td>55.0</td>\n",
       "      <td>1</td>\n",
       "      <td>129.5</td>\n",
       "      <td>0</td>\n",
       "      <td>1</td>\n",
       "      <td>0</td>\n",
       "    </tr>\n",
       "    <tr>\n",
       "      <th>8</th>\n",
       "      <td>56.0</td>\n",
       "      <td>1</td>\n",
       "      <td>129.5</td>\n",
       "      <td>1</td>\n",
       "      <td>1</td>\n",
       "      <td>0</td>\n",
       "    </tr>\n",
       "    <tr>\n",
       "      <th>9</th>\n",
       "      <td>50.0</td>\n",
       "      <td>2</td>\n",
       "      <td>146.5</td>\n",
       "      <td>0</td>\n",
       "      <td>1</td>\n",
       "      <td>0</td>\n",
       "    </tr>\n",
       "  </tbody>\n",
       "</table>\n",
       "</div>"
      ],
      "text/plain": [
       "    Age Gender  SysBP Diabetes Smoking CVD risk\n",
       "0  44.0      2  144.5        1       1        0\n",
       "1  42.0      1  120.0        0       0        0\n",
       "2  70.0      2  143.5        0       1        1\n",
       "3  66.0      1  132.5        0       0        1\n",
       "4  70.0      1  155.5        0       1        1\n",
       "5  45.0      1  121.5        1       1        0\n",
       "6  51.0      1  131.0        0       0        0\n",
       "7  55.0      1  129.5        0       1        0\n",
       "8  56.0      1  129.5        1       1        0\n",
       "9  50.0      2  146.5        0       1        0"
      ]
     },
     "execution_count": 36,
     "metadata": {},
     "output_type": "execute_result"
    }
   ],
   "source": [
    "# Uniforming the categories of the categorial variables \n",
    "Indian_df['Gender'].replace({ 1.0 : '1', 2.0 : '2'  }, inplace = True)\n",
    "Indian_df['Smoking'].replace({ 1.0 : '1',  2.0 :'0' }, inplace = True)\n",
    "Indian_df['Diabetes'] = Indian_df['Diabetes'].apply(lambda x: '1' if x >= 126  else '0')\n",
    "Indian_df['CVD risk'] = Indian_df['CVD risk'].apply(lambda x: '1' if x >= 0.2  else '0')\n",
    "\n",
    "Indian_df.head(10)"
   ]
  },
  {
   "cell_type": "code",
   "execution_count": 37,
   "metadata": {},
   "outputs": [
    {
     "name": "stdout",
     "output_type": "stream",
     "text": [
      "<class 'pandas.core.frame.DataFrame'>\n",
      "RangeIndex: 562641 entries, 0 to 562640\n",
      "Data columns (total 6 columns):\n",
      " #   Column    Non-Null Count   Dtype  \n",
      "---  ------    --------------   -----  \n",
      " 0   Age       562641 non-null  float64\n",
      " 1   Gender    562641 non-null  int64  \n",
      " 2   SysBP     562641 non-null  float64\n",
      " 3   Diabetes  562641 non-null  int64  \n",
      " 4   Smoking   562641 non-null  int64  \n",
      " 5   CVD risk  562641 non-null  int64  \n",
      "dtypes: float64(2), int64(4)\n",
      "memory usage: 25.8 MB\n"
     ]
    }
   ],
   "source": [
    "# Defining the coorect types of the variables\n",
    "\n",
    "Indian_df['Gender'] = Indian_df['Gender'].astype(\"int64\")\n",
    "Indian_df['Diabetes'] = Indian_df['Diabetes'].astype(\"int64\")\n",
    "Indian_df['Smoking'] = Indian_df['Smoking'].astype(\"int64\")\n",
    "Indian_df['CVD risk'] = Indian_df['CVD risk'].astype(\"int64\")\n",
    "\n",
    "Indian_df.info()"
   ]
  },
  {
   "cell_type": "code",
   "execution_count": 38,
   "metadata": {},
   "outputs": [
    {
     "data": {
      "text/html": [
       "<div>\n",
       "<style scoped>\n",
       "    .dataframe tbody tr th:only-of-type {\n",
       "        vertical-align: middle;\n",
       "    }\n",
       "\n",
       "    .dataframe tbody tr th {\n",
       "        vertical-align: top;\n",
       "    }\n",
       "\n",
       "    .dataframe thead th {\n",
       "        text-align: right;\n",
       "    }\n",
       "</style>\n",
       "<table border=\"1\" class=\"dataframe\">\n",
       "  <thead>\n",
       "    <tr style=\"text-align: right;\">\n",
       "      <th></th>\n",
       "      <th>Age</th>\n",
       "      <th>SysBP</th>\n",
       "    </tr>\n",
       "  </thead>\n",
       "  <tbody>\n",
       "    <tr>\n",
       "      <th>count</th>\n",
       "      <td>562641.000000</td>\n",
       "      <td>562641.000000</td>\n",
       "    </tr>\n",
       "    <tr>\n",
       "      <th>mean</th>\n",
       "      <td>53.683749</td>\n",
       "      <td>131.095995</td>\n",
       "    </tr>\n",
       "    <tr>\n",
       "      <th>std</th>\n",
       "      <td>10.263139</td>\n",
       "      <td>22.002704</td>\n",
       "    </tr>\n",
       "    <tr>\n",
       "      <th>min</th>\n",
       "      <td>40.000000</td>\n",
       "      <td>70.000000</td>\n",
       "    </tr>\n",
       "    <tr>\n",
       "      <th>25%</th>\n",
       "      <td>45.000000</td>\n",
       "      <td>116.500000</td>\n",
       "    </tr>\n",
       "    <tr>\n",
       "      <th>50%</th>\n",
       "      <td>52.000000</td>\n",
       "      <td>128.500000</td>\n",
       "    </tr>\n",
       "    <tr>\n",
       "      <th>75%</th>\n",
       "      <td>60.000000</td>\n",
       "      <td>142.500000</td>\n",
       "    </tr>\n",
       "    <tr>\n",
       "      <th>max</th>\n",
       "      <td>80.000000</td>\n",
       "      <td>240.000000</td>\n",
       "    </tr>\n",
       "  </tbody>\n",
       "</table>\n",
       "</div>"
      ],
      "text/plain": [
       "                 Age          SysBP\n",
       "count  562641.000000  562641.000000\n",
       "mean       53.683749     131.095995\n",
       "std        10.263139      22.002704\n",
       "min        40.000000      70.000000\n",
       "25%        45.000000     116.500000\n",
       "50%        52.000000     128.500000\n",
       "75%        60.000000     142.500000\n",
       "max        80.000000     240.000000"
      ]
     },
     "execution_count": 38,
     "metadata": {},
     "output_type": "execute_result"
    }
   ],
   "source": [
    "# Checking the brief statistical properities of the numerical variables in the dataset\n",
    "Indian_df[numeric_features].describe()"
   ]
  },
  {
   "cell_type": "markdown",
   "metadata": {},
   "source": [
    "#### Observations\n",
    "\n",
    "- Age has normal range between 40 to 80 years.\n",
    "- Also, Systolic blood pressure \"SysBP\" has normal range between 70 to 240 mmHg"
   ]
  },
  {
   "cell_type": "code",
   "execution_count": 39,
   "metadata": {},
   "outputs": [
    {
     "data": {
      "image/png": "[encoded data removed]",
      "text/plain": [
       "<Figure size 1000x500 with 1 Axes>"
      ]
     },
     "metadata": {},
     "output_type": "display_data"
    }
   ],
   "source": [
    "# Plotting the numerical variables in  the dataset\n",
    "\n",
    "plt.figure(figsize=(10,5), facecolor='w')\n",
    "sns.boxplot(data=Indian_df[numeric_features])\n",
    "plt.show()"
   ]
  },
  {
   "cell_type": "code",
   "execution_count": 40,
   "metadata": {},
   "outputs": [
    {
     "data": {
      "image/png": "[encoded data removed]",
      "text/plain": [
       "<Figure size 1000x500 with 1 Axes>"
      ]
     },
     "metadata": {},
     "output_type": "display_data"
    },
    {
     "data": {
      "image/png": "[encoded data removed]",
      "text/plain": [
       "<Figure size 1000x500 with 1 Axes>"
      ]
     },
     "metadata": {},
     "output_type": "display_data"
    }
   ],
   "source": [
    "for feature in numeric_features:\n",
    "    plt.figure(figsize=(10, 5))\n",
    "    sns.histplot(Indian_df[feature])\n",
    "    plt.title(f'{feature} Distribution', fontsize=14)\n",
    "    plt.show()"
   ]
  },
  {
   "cell_type": "markdown",
   "metadata": {},
   "source": [
    "#### Observations\n",
    "\n",
    "- Age distribution has uneven distribution.\n",
    "- However, Systolic blood pressure \"SysBP\" distribution is almost normal distribution."
   ]
  },
  {
   "cell_type": "code",
   "execution_count": 41,
   "metadata": {},
   "outputs": [
    {
     "name": "stdout",
     "output_type": "stream",
     "text": [
      "Gender :\n",
      "2    287713\n",
      "1    274928\n",
      "Name: Gender, dtype: int64\n",
      "-----------------\n",
      "Diabetes :\n",
      "0    443695\n",
      "1    118946\n",
      "Name: Diabetes, dtype: int64\n",
      "-----------------\n",
      "Smoking :\n",
      "1    476878\n",
      "0     85763\n",
      "Name: Smoking, dtype: int64\n",
      "-----------------\n",
      "CVD risk :\n",
      "0    475412\n",
      "1     87229\n",
      "Name: CVD risk, dtype: int64\n",
      "-----------------\n"
     ]
    }
   ],
   "source": [
    "# Checking the brief statistical properities of the categorical variables in the dataset\n",
    "\n",
    "for feature in categorical_features:\n",
    "    print(feature,':')\n",
    "    print(Indian_df[feature].value_counts())\n",
    "    print(\"-----------------\")"
   ]
  },
  {
   "cell_type": "code",
   "execution_count": 42,
   "metadata": {},
   "outputs": [
    {
     "data": {
      "image/png": "[encoded data removed]",
      "text/plain": [
       "<Figure size 1400x1400 with 4 Axes>"
      ]
     },
     "metadata": {},
     "output_type": "display_data"
    }
   ],
   "source": [
    "# Plotting the categorical variables in  the dataset\n",
    "\n",
    "num_plots = len(categorical_features)\n",
    "total_cols = 2\n",
    "total_rows = num_plots//total_cols \n",
    "fig, axs = plt.subplots(nrows=total_rows, ncols=total_cols,\n",
    "                        figsize=(7*total_cols, 7*total_rows), facecolor='w', constrained_layout=True)\n",
    "for i, var in enumerate(categorical_features):\n",
    "    row = i//total_cols\n",
    "    pos = i % total_cols\n",
    "    plot = sns.countplot(x=var, data=Indian_df, ax=axs[row][pos])"
   ]
  },
  {
   "cell_type": "markdown",
   "metadata": {},
   "source": [
    "* There are no signficant imbalance between categorical features in the dataset"
   ]
  },
  {
   "cell_type": "markdown",
   "metadata": {},
   "source": [
    "## Combined Office_based dataset "
   ]
  },
  {
   "cell_type": "code",
   "execution_count": 43,
   "metadata": {},
   "outputs": [
    {
     "name": "stdout",
     "output_type": "stream",
     "text": [
      "<class 'pandas.core.frame.DataFrame'>\n",
      "RangeIndex: 654506 entries, 0 to 654505\n",
      "Data columns (total 6 columns):\n",
      " #   Column    Non-Null Count   Dtype  \n",
      "---  ------    --------------   -----  \n",
      " 0   Age       654506 non-null  float64\n",
      " 1   Gender    654506 non-null  int64  \n",
      " 2   SysBP     654506 non-null  float64\n",
      " 3   Diabetes  654506 non-null  int64  \n",
      " 4   Smoking   654506 non-null  int64  \n",
      " 5   CVD risk  654506 non-null  int64  \n",
      "dtypes: float64(2), int64(4)\n",
      "memory usage: 30.0 MB\n"
     ]
    }
   ],
   "source": [
    "# concatenation of dataframes\n",
    "\n",
    "office_df = pd.concat([Kaggle_df_filtered,Indonesian_df, Indian_df], axis = 0,  ignore_index=True)\n",
    "\n",
    "office_df.info()"
   ]
  },
  {
   "cell_type": "code",
   "execution_count": 44,
   "metadata": {},
   "outputs": [
    {
     "name": "stdout",
     "output_type": "stream",
     "text": [
      "Missing values:  0 \n",
      "\n",
      "Duplicates Rows in Dataset are : 572129\n"
     ]
    }
   ],
   "source": [
    "# Checking Missing values in the dataset\n",
    "num_Missing_values_office = office_df.isna().sum().sum()\n",
    "print('Missing values: ', num_Missing_values_office, '\\n')\n",
    "\n",
    "# Checking dupicated values in the dataset\n",
    "duplicates_office = office_df.duplicated().sum()\n",
    "if duplicates_office:\n",
    "    print('Duplicates Rows in Dataset are : {}'.format(duplicates_office))\n",
    "else:\n",
    "    print('Dataset contains no Duplicate Values')"
   ]
  },
  {
   "cell_type": "code",
   "execution_count": 45,
   "metadata": {},
   "outputs": [
    {
     "name": "stdout",
     "output_type": "stream",
     "text": [
      "<class 'pandas.core.frame.DataFrame'>\n",
      "RangeIndex: 654506 entries, 0 to 654505\n",
      "Data columns (total 6 columns):\n",
      " #   Column    Non-Null Count   Dtype  \n",
      "---  ------    --------------   -----  \n",
      " 0   Age       654506 non-null  float64\n",
      " 1   Gender    654506 non-null  int64  \n",
      " 2   SysBP     654506 non-null  float64\n",
      " 3   Diabetes  654506 non-null  int64  \n",
      " 4   Smoking   654506 non-null  int64  \n",
      " 5   CVD risk  654506 non-null  int64  \n",
      "dtypes: float64(2), int64(4)\n",
      "memory usage: 30.0 MB\n"
     ]
    }
   ],
   "source": [
    "# Defining the coorect types of the variables\n",
    "\n",
    "#office_df['Age'] = office_df['Age'].astype(\"float\")\n",
    "#office_df['SysBP'] = office_df['SysBP'].astype(\"float\")\n",
    "#office_df['Gender'] = office_df['Gender'].astype(\"category\")\n",
    "#office_df['Diabetes'] = office_df['Diabetes'].astype(\"category\")\n",
    "#office_df['Smoking'] = office_df['Smoking'].astype(\"category\")\n",
    "#office_df['CVD risk'] = office_df['CVD risk'].astype(\"category\")\n",
    "\n",
    "office_df.info()"
   ]
  },
  {
   "cell_type": "code",
   "execution_count": 46,
   "metadata": {},
   "outputs": [
    {
     "data": {
      "text/html": [
       "<div>\n",
       "<style scoped>\n",
       "    .dataframe tbody tr th:only-of-type {\n",
       "        vertical-align: middle;\n",
       "    }\n",
       "\n",
       "    .dataframe tbody tr th {\n",
       "        vertical-align: top;\n",
       "    }\n",
       "\n",
       "    .dataframe thead th {\n",
       "        text-align: right;\n",
       "    }\n",
       "</style>\n",
       "<table border=\"1\" class=\"dataframe\">\n",
       "  <thead>\n",
       "    <tr style=\"text-align: right;\">\n",
       "      <th></th>\n",
       "      <th>Age</th>\n",
       "      <th>Gender</th>\n",
       "      <th>SysBP</th>\n",
       "      <th>Diabetes</th>\n",
       "      <th>Smoking</th>\n",
       "      <th>CVD risk</th>\n",
       "    </tr>\n",
       "  </thead>\n",
       "  <tbody>\n",
       "    <tr>\n",
       "      <th>0</th>\n",
       "      <td>50.4</td>\n",
       "      <td>2</td>\n",
       "      <td>110.0</td>\n",
       "      <td>0</td>\n",
       "      <td>0</td>\n",
       "      <td>0</td>\n",
       "    </tr>\n",
       "    <tr>\n",
       "      <th>1</th>\n",
       "      <td>55.4</td>\n",
       "      <td>1</td>\n",
       "      <td>140.0</td>\n",
       "      <td>0</td>\n",
       "      <td>0</td>\n",
       "      <td>1</td>\n",
       "    </tr>\n",
       "    <tr>\n",
       "      <th>2</th>\n",
       "      <td>51.7</td>\n",
       "      <td>1</td>\n",
       "      <td>130.0</td>\n",
       "      <td>0</td>\n",
       "      <td>0</td>\n",
       "      <td>1</td>\n",
       "    </tr>\n",
       "    <tr>\n",
       "      <th>3</th>\n",
       "      <td>48.3</td>\n",
       "      <td>2</td>\n",
       "      <td>150.0</td>\n",
       "      <td>0</td>\n",
       "      <td>0</td>\n",
       "      <td>1</td>\n",
       "    </tr>\n",
       "    <tr>\n",
       "      <th>4</th>\n",
       "      <td>47.9</td>\n",
       "      <td>1</td>\n",
       "      <td>100.0</td>\n",
       "      <td>0</td>\n",
       "      <td>0</td>\n",
       "      <td>0</td>\n",
       "    </tr>\n",
       "    <tr>\n",
       "      <th>5</th>\n",
       "      <td>60.0</td>\n",
       "      <td>1</td>\n",
       "      <td>120.0</td>\n",
       "      <td>1</td>\n",
       "      <td>0</td>\n",
       "      <td>0</td>\n",
       "    </tr>\n",
       "    <tr>\n",
       "      <th>6</th>\n",
       "      <td>60.6</td>\n",
       "      <td>1</td>\n",
       "      <td>130.0</td>\n",
       "      <td>0</td>\n",
       "      <td>0</td>\n",
       "      <td>0</td>\n",
       "    </tr>\n",
       "    <tr>\n",
       "      <th>7</th>\n",
       "      <td>61.9</td>\n",
       "      <td>2</td>\n",
       "      <td>130.0</td>\n",
       "      <td>1</td>\n",
       "      <td>0</td>\n",
       "      <td>1</td>\n",
       "    </tr>\n",
       "    <tr>\n",
       "      <th>8</th>\n",
       "      <td>48.4</td>\n",
       "      <td>1</td>\n",
       "      <td>110.0</td>\n",
       "      <td>0</td>\n",
       "      <td>0</td>\n",
       "      <td>0</td>\n",
       "    </tr>\n",
       "    <tr>\n",
       "      <th>9</th>\n",
       "      <td>54.3</td>\n",
       "      <td>1</td>\n",
       "      <td>110.0</td>\n",
       "      <td>0</td>\n",
       "      <td>0</td>\n",
       "      <td>0</td>\n",
       "    </tr>\n",
       "    <tr>\n",
       "      <th>10</th>\n",
       "      <td>61.7</td>\n",
       "      <td>1</td>\n",
       "      <td>120.0</td>\n",
       "      <td>0</td>\n",
       "      <td>0</td>\n",
       "      <td>0</td>\n",
       "    </tr>\n",
       "    <tr>\n",
       "      <th>11</th>\n",
       "      <td>51.5</td>\n",
       "      <td>2</td>\n",
       "      <td>120.0</td>\n",
       "      <td>0</td>\n",
       "      <td>0</td>\n",
       "      <td>0</td>\n",
       "    </tr>\n",
       "    <tr>\n",
       "      <th>12</th>\n",
       "      <td>40.5</td>\n",
       "      <td>2</td>\n",
       "      <td>120.0</td>\n",
       "      <td>0</td>\n",
       "      <td>0</td>\n",
       "      <td>0</td>\n",
       "    </tr>\n",
       "    <tr>\n",
       "      <th>13</th>\n",
       "      <td>54.3</td>\n",
       "      <td>1</td>\n",
       "      <td>110.0</td>\n",
       "      <td>0</td>\n",
       "      <td>0</td>\n",
       "      <td>0</td>\n",
       "    </tr>\n",
       "    <tr>\n",
       "      <th>14</th>\n",
       "      <td>39.8</td>\n",
       "      <td>2</td>\n",
       "      <td>130.0</td>\n",
       "      <td>0</td>\n",
       "      <td>1</td>\n",
       "      <td>0</td>\n",
       "    </tr>\n",
       "    <tr>\n",
       "      <th>15</th>\n",
       "      <td>46.0</td>\n",
       "      <td>2</td>\n",
       "      <td>120.0</td>\n",
       "      <td>0</td>\n",
       "      <td>0</td>\n",
       "      <td>1</td>\n",
       "    </tr>\n",
       "    <tr>\n",
       "      <th>16</th>\n",
       "      <td>58.3</td>\n",
       "      <td>1</td>\n",
       "      <td>130.0</td>\n",
       "      <td>0</td>\n",
       "      <td>0</td>\n",
       "      <td>0</td>\n",
       "    </tr>\n",
       "    <tr>\n",
       "      <th>17</th>\n",
       "      <td>45.9</td>\n",
       "      <td>1</td>\n",
       "      <td>110.0</td>\n",
       "      <td>1</td>\n",
       "      <td>0</td>\n",
       "      <td>0</td>\n",
       "    </tr>\n",
       "    <tr>\n",
       "      <th>18</th>\n",
       "      <td>47.9</td>\n",
       "      <td>1</td>\n",
       "      <td>100.0</td>\n",
       "      <td>0</td>\n",
       "      <td>0</td>\n",
       "      <td>0</td>\n",
       "    </tr>\n",
       "    <tr>\n",
       "      <th>19</th>\n",
       "      <td>59.6</td>\n",
       "      <td>2</td>\n",
       "      <td>120.0</td>\n",
       "      <td>0</td>\n",
       "      <td>1</td>\n",
       "      <td>0</td>\n",
       "    </tr>\n",
       "  </tbody>\n",
       "</table>\n",
       "</div>"
      ],
      "text/plain": [
       "     Age  Gender  SysBP  Diabetes  Smoking  CVD risk\n",
       "0   50.4       2  110.0         0        0         0\n",
       "1   55.4       1  140.0         0        0         1\n",
       "2   51.7       1  130.0         0        0         1\n",
       "3   48.3       2  150.0         0        0         1\n",
       "4   47.9       1  100.0         0        0         0\n",
       "5   60.0       1  120.0         1        0         0\n",
       "6   60.6       1  130.0         0        0         0\n",
       "7   61.9       2  130.0         1        0         1\n",
       "8   48.4       1  110.0         0        0         0\n",
       "9   54.3       1  110.0         0        0         0\n",
       "10  61.7       1  120.0         0        0         0\n",
       "11  51.5       2  120.0         0        0         0\n",
       "12  40.5       2  120.0         0        0         0\n",
       "13  54.3       1  110.0         0        0         0\n",
       "14  39.8       2  130.0         0        1         0\n",
       "15  46.0       2  120.0         0        0         1\n",
       "16  58.3       1  130.0         0        0         0\n",
       "17  45.9       1  110.0         1        0         0\n",
       "18  47.9       1  100.0         0        0         0\n",
       "19  59.6       2  120.0         0        1         0"
      ]
     },
     "execution_count": 46,
     "metadata": {},
     "output_type": "execute_result"
    }
   ],
   "source": [
    "office_df.head(20)"
   ]
  },
  {
   "cell_type": "code",
   "execution_count": 47,
   "metadata": {},
   "outputs": [
    {
     "data": {
      "text/html": [
       "<div>\n",
       "<style scoped>\n",
       "    .dataframe tbody tr th:only-of-type {\n",
       "        vertical-align: middle;\n",
       "    }\n",
       "\n",
       "    .dataframe tbody tr th {\n",
       "        vertical-align: top;\n",
       "    }\n",
       "\n",
       "    .dataframe thead th {\n",
       "        text-align: right;\n",
       "    }\n",
       "</style>\n",
       "<table border=\"1\" class=\"dataframe\">\n",
       "  <thead>\n",
       "    <tr style=\"text-align: right;\">\n",
       "      <th></th>\n",
       "      <th>Age</th>\n",
       "      <th>SysBP</th>\n",
       "    </tr>\n",
       "  </thead>\n",
       "  <tbody>\n",
       "    <tr>\n",
       "      <th>count</th>\n",
       "      <td>654506.000000</td>\n",
       "      <td>654506.000000</td>\n",
       "    </tr>\n",
       "    <tr>\n",
       "      <th>mean</th>\n",
       "      <td>53.688822</td>\n",
       "      <td>130.972719</td>\n",
       "    </tr>\n",
       "    <tr>\n",
       "      <th>std</th>\n",
       "      <td>9.970422</td>\n",
       "      <td>21.702732</td>\n",
       "    </tr>\n",
       "    <tr>\n",
       "      <th>min</th>\n",
       "      <td>29.600000</td>\n",
       "      <td>60.000000</td>\n",
       "    </tr>\n",
       "    <tr>\n",
       "      <th>25%</th>\n",
       "      <td>45.000000</td>\n",
       "      <td>117.500000</td>\n",
       "    </tr>\n",
       "    <tr>\n",
       "      <th>50%</th>\n",
       "      <td>52.000000</td>\n",
       "      <td>128.000000</td>\n",
       "    </tr>\n",
       "    <tr>\n",
       "      <th>75%</th>\n",
       "      <td>60.000000</td>\n",
       "      <td>142.000000</td>\n",
       "    </tr>\n",
       "    <tr>\n",
       "      <th>max</th>\n",
       "      <td>116.000000</td>\n",
       "      <td>243.000000</td>\n",
       "    </tr>\n",
       "  </tbody>\n",
       "</table>\n",
       "</div>"
      ],
      "text/plain": [
       "                 Age          SysBP\n",
       "count  654506.000000  654506.000000\n",
       "mean       53.688822     130.972719\n",
       "std         9.970422      21.702732\n",
       "min        29.600000      60.000000\n",
       "25%        45.000000     117.500000\n",
       "50%        52.000000     128.000000\n",
       "75%        60.000000     142.000000\n",
       "max       116.000000     243.000000"
      ]
     },
     "execution_count": 47,
     "metadata": {},
     "output_type": "execute_result"
    }
   ],
   "source": [
    "# Checking the brief statistical properities of the numerical variables in the dataset\n",
    "office_df[numeric_features].describe()"
   ]
  },
  {
   "cell_type": "code",
   "execution_count": 48,
   "metadata": {},
   "outputs": [
    {
     "data": {
      "image/png": "[encoded data removed]",
      "text/plain": [
       "<Figure size 1000x500 with 1 Axes>"
      ]
     },
     "metadata": {},
     "output_type": "display_data"
    }
   ],
   "source": [
    "# Plotting the numerical variables in  the dataset\n",
    "\n",
    "plt.figure(figsize=(10,5), facecolor='w')\n",
    "sns.boxplot(data=office_df[numeric_features])\n",
    "plt.show()"
   ]
  },
  {
   "cell_type": "code",
   "execution_count": 49,
   "metadata": {},
   "outputs": [
    {
     "data": {
      "image/png": "[encoded data removed]",
      "text/plain": [
       "<Figure size 1000x500 with 1 Axes>"
      ]
     },
     "metadata": {},
     "output_type": "display_data"
    },
    {
     "data": {
      "image/png": "[encoded data removed]",
      "text/plain": [
       "<Figure size 1000x500 with 1 Axes>"
      ]
     },
     "metadata": {},
     "output_type": "display_data"
    }
   ],
   "source": [
    "for feature in numeric_features:\n",
    "    plt.figure(figsize=(10, 5))\n",
    "    sns.histplot(office_df[feature])\n",
    "    plt.title(f'{feature} Distribution', fontsize=14)\n",
    "    plt.show()"
   ]
  },
  {
   "cell_type": "markdown",
   "metadata": {},
   "source": [
    "#### Observations\n",
    "\n",
    "- Age distribution has uneven distribution.\n",
    "- However, Systolic blood pressure \"SysBP\" distribution is almost normal distribution."
   ]
  },
  {
   "cell_type": "code",
   "execution_count": 50,
   "metadata": {},
   "outputs": [
    {
     "name": "stdout",
     "output_type": "stream",
     "text": [
      "Gender :\n",
      "1    332820\n",
      "2    321686\n",
      "Name: Gender, dtype: int64\n",
      "-----------------\n",
      "Diabetes :\n",
      "0    518190\n",
      "1    136316\n",
      "Name: Diabetes, dtype: int64\n",
      "-----------------\n",
      "Smoking :\n",
      "1    488918\n",
      "0    165588\n",
      "Name: Smoking, dtype: int64\n",
      "-----------------\n",
      "CVD risk :\n",
      "0    525964\n",
      "1    128542\n",
      "Name: CVD risk, dtype: int64\n",
      "-----------------\n"
     ]
    }
   ],
   "source": [
    "# Checking the brief statistical properities of the categorical variables in the dataset\n",
    "\n",
    "for feature in categorical_features:\n",
    "    print(feature,':')\n",
    "    print(office_df[feature].value_counts())\n",
    "    print(\"-----------------\")"
   ]
  },
  {
   "cell_type": "code",
   "execution_count": 51,
   "metadata": {},
   "outputs": [
    {
     "data": {
      "image/png": "[encoded data removed]",
      "text/plain": [
       "<Figure size 1400x1400 with 4 Axes>"
      ]
     },
     "metadata": {},
     "output_type": "display_data"
    }
   ],
   "source": [
    "# Plotting the categorical variables in  the dataset\n",
    "\n",
    "num_plots = len(categorical_features)\n",
    "total_cols = 2\n",
    "total_rows = num_plots//total_cols \n",
    "fig, axs = plt.subplots(nrows=total_rows, ncols=total_cols,\n",
    "                        figsize=(7*total_cols, 7*total_rows), facecolor='w', constrained_layout=True)\n",
    "for i, var in enumerate(categorical_features):\n",
    "    row = i//total_cols\n",
    "    pos = i % total_cols\n",
    "    plot = sns.countplot(x=var, data=office_df, ax=axs[row][pos])"
   ]
  },
  {
   "cell_type": "code",
   "execution_count": 52,
   "metadata": {},
   "outputs": [],
   "source": [
    "office_df_compact = office_df.drop_duplicates()"
   ]
  },
  {
   "cell_type": "code",
   "execution_count": 53,
   "metadata": {},
   "outputs": [
    {
     "name": "stdout",
     "output_type": "stream",
     "text": [
      "<class 'pandas.core.frame.DataFrame'>\n",
      "Int64Index: 82377 entries, 0 to 654476\n",
      "Data columns (total 6 columns):\n",
      " #   Column    Non-Null Count  Dtype  \n",
      "---  ------    --------------  -----  \n",
      " 0   Age       82377 non-null  float64\n",
      " 1   Gender    82377 non-null  int64  \n",
      " 2   SysBP     82377 non-null  float64\n",
      " 3   Diabetes  82377 non-null  int64  \n",
      " 4   Smoking   82377 non-null  int64  \n",
      " 5   CVD risk  82377 non-null  int64  \n",
      "dtypes: float64(2), int64(4)\n",
      "memory usage: 4.4 MB\n"
     ]
    }
   ],
   "source": [
    "office_df_compact.info()"
   ]
  },
  {
   "cell_type": "code",
   "execution_count": 54,
   "metadata": {},
   "outputs": [
    {
     "data": {
      "image/png": "[encoded data removed]",
      "text/plain": [
       "<Figure size 1000x500 with 1 Axes>"
      ]
     },
     "metadata": {},
     "output_type": "display_data"
    },
    {
     "data": {
      "image/png": "[encoded data removed]",
      "text/plain": [
       "<Figure size 1000x500 with 1 Axes>"
      ]
     },
     "metadata": {},
     "output_type": "display_data"
    }
   ],
   "source": [
    "for feature in numeric_features:\n",
    "    plt.figure(figsize=(10, 5))\n",
    "    sns.histplot(office_df_compact[feature])\n",
    "    plt.title(f'{feature} Distribution', fontsize=14)\n",
    "    plt.show()"
   ]
  },
  {
   "cell_type": "code",
   "execution_count": 55,
   "metadata": {},
   "outputs": [
    {
     "data": {
      "image/png": "[encoded data removed]",
      "text/plain": [
       "<Figure size 1400x1400 with 4 Axes>"
      ]
     },
     "metadata": {},
     "output_type": "display_data"
    }
   ],
   "source": [
    "# Plotting the categorical variables in  the dataset\n",
    "\n",
    "num_plots = len(categorical_features)\n",
    "total_cols = 2\n",
    "total_rows = num_plots//total_cols \n",
    "fig, axs = plt.subplots(nrows=total_rows, ncols=total_cols,\n",
    "                        figsize=(7*total_cols, 7*total_rows), facecolor='w', constrained_layout=True)\n",
    "for i, var in enumerate(categorical_features):\n",
    "    row = i//total_cols\n",
    "    pos = i % total_cols\n",
    "    plot = sns.countplot(x=var, data=office_df_compact, ax=axs[row][pos])"
   ]
  },
  {
   "cell_type": "markdown",
   "metadata": {},
   "source": [
    "## Conclusion\n",
    "\n",
    "**Removal of the duplicates from the dataset result in 82430 cases with more normal distribution for the numerical variables and more balanced classes for the categorical varbiables and target label**"
   ]
  },
  {
   "cell_type": "code",
   "execution_count": 56,
   "metadata": {
    "tags": []
   },
   "outputs": [],
   "source": [
    "office_df.to_csv('office_based_dataset.csv')"
   ]
  },
  {
   "cell_type": "code",
   "execution_count": 57,
   "metadata": {},
   "outputs": [],
   "source": [
    "office_df_compact.to_csv('office_based_dataset_compact.csv')"
   ]
  },
  {
   "cell_type": "markdown",
   "metadata": {},
   "source": [
    "#### *Exploratory Data analysis will be applied in the next notebook*"
   ]
  }
 ],
 "metadata": {
  "kernelspec": {
   "display_name": "Python 3 (ipykernel)",
   "language": "python",
   "name": "python3"
  },
  "language_info": {
   "codemirror_mode": {
    "name": "ipython",
    "version": 3
   },
   "file_extension": ".py",
   "mimetype": "text/x-python",
   "name": "python",
   "nbconvert_exporter": "python",
   "pygments_lexer": "ipython3",
   "version": "3.10.8"
  }
 },
 "nbformat": 4,
 "nbformat_minor": 4
}
